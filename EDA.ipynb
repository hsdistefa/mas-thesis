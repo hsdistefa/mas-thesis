{
 "cells": [
  {
   "cell_type": "code",
   "execution_count": 1,
   "metadata": {},
   "outputs": [],
   "source": [
    "import numpy as np\n",
    "import pandas as pd\n",
    "from matplotlib import pyplot as plt\n",
    "\n",
    "%matplotlib inline"
   ]
  },
  {
   "cell_type": "code",
   "execution_count": 2,
   "metadata": {},
   "outputs": [
    {
     "data": {
      "text/html": [
       "<div>\n",
       "<style scoped>\n",
       "    .dataframe tbody tr th:only-of-type {\n",
       "        vertical-align: middle;\n",
       "    }\n",
       "\n",
       "    .dataframe tbody tr th {\n",
       "        vertical-align: top;\n",
       "    }\n",
       "\n",
       "    .dataframe thead th {\n",
       "        text-align: right;\n",
       "    }\n",
       "</style>\n",
       "<table border=\"1\" class=\"dataframe\">\n",
       "  <thead>\n",
       "    <tr style=\"text-align: right;\">\n",
       "      <th></th>\n",
       "      <th>DATE</th>\n",
       "      <th>MSPUS</th>\n",
       "    </tr>\n",
       "  </thead>\n",
       "  <tbody>\n",
       "    <tr>\n",
       "      <th>0</th>\n",
       "      <td>1963-01-01</td>\n",
       "      <td>17800.0</td>\n",
       "    </tr>\n",
       "    <tr>\n",
       "      <th>1</th>\n",
       "      <td>1963-04-01</td>\n",
       "      <td>18000.0</td>\n",
       "    </tr>\n",
       "    <tr>\n",
       "      <th>2</th>\n",
       "      <td>1963-07-01</td>\n",
       "      <td>17900.0</td>\n",
       "    </tr>\n",
       "    <tr>\n",
       "      <th>3</th>\n",
       "      <td>1963-10-01</td>\n",
       "      <td>18500.0</td>\n",
       "    </tr>\n",
       "    <tr>\n",
       "      <th>4</th>\n",
       "      <td>1964-01-01</td>\n",
       "      <td>18500.0</td>\n",
       "    </tr>\n",
       "  </tbody>\n",
       "</table>\n",
       "</div>"
      ],
      "text/plain": [
       "         DATE    MSPUS\n",
       "0  1963-01-01  17800.0\n",
       "1  1963-04-01  18000.0\n",
       "2  1963-07-01  17900.0\n",
       "3  1963-10-01  18500.0\n",
       "4  1964-01-01  18500.0"
      ]
     },
     "execution_count": 2,
     "metadata": {},
     "output_type": "execute_result"
    }
   ],
   "source": [
    "price_df = pd.read_csv('data/Housing_SalePrice_US.csv')\n",
    "price_df.head()"
   ]
  },
  {
   "cell_type": "code",
   "execution_count": 3,
   "metadata": {},
   "outputs": [
    {
     "name": "stdout",
     "output_type": "stream",
     "text": [
      "<class 'pandas.core.frame.DataFrame'>\n",
      "RangeIndex: 237 entries, 0 to 236\n",
      "Data columns (total 2 columns):\n",
      " #   Column  Non-Null Count  Dtype  \n",
      "---  ------  --------------  -----  \n",
      " 0   DATE    237 non-null    object \n",
      " 1   MSPUS   237 non-null    float64\n",
      "dtypes: float64(1), object(1)\n",
      "memory usage: 3.8+ KB\n",
      "None\n",
      "<class 'pandas.core.frame.DataFrame'>\n",
      "RangeIndex: 237 entries, 0 to 236\n",
      "Data columns (total 2 columns):\n",
      " #   Column  Non-Null Count  Dtype         \n",
      "---  ------  --------------  -----         \n",
      " 0   DATE    237 non-null    datetime64[ns]\n",
      " 1   MSPUS   237 non-null    float64       \n",
      "dtypes: datetime64[ns](1), float64(1)\n",
      "memory usage: 3.8 KB\n"
     ]
    }
   ],
   "source": [
    "# Datetime objects are easier to work with\n",
    "\n",
    "print(price_df.info())\n",
    "\n",
    "price_df['DATE'] = pd.to_datetime(price_df['DATE'], format='%Y-%m-%d')\n",
    "\n",
    "# After\n",
    "price_df.info()"
   ]
  },
  {
   "cell_type": "code",
   "execution_count": 4,
   "metadata": {},
   "outputs": [
    {
     "data": {
      "image/png": "[encoded data removed]",
      "text/plain": [
       "<Figure size 432x288 with 1 Axes>"
      ]
     },
     "metadata": {
      "needs_background": "light"
     },
     "output_type": "display_data"
    }
   ],
   "source": [
    "price_df.plot.line('DATE', 'MSPUS')\n",
    "plt.show()"
   ]
  },
  {
   "cell_type": "code",
   "execution_count": 5,
   "metadata": {
    "scrolled": true
   },
   "outputs": [
    {
     "name": "stdout",
     "output_type": "stream",
     "text": [
      "         Date  S&P Comp.  Dividend  Earnings    Consumer Price Index CPI  \\\n",
      "0  1871-01-01       4.44      0.26       0.4                       12.46   \n",
      "1  1871-02-01       4.50      0.26       0.4                       12.84   \n",
      "2  1871-03-01       4.61      0.26       0.4                       13.03   \n",
      "3  1871-04-01       4.74      0.26       0.4                       12.56   \n",
      "4  1871-05-01       4.86      0.26       0.4                       12.27   \n",
      "\n",
      "   Date Fraction    Long Interest Rate GS10  Real Price  Real Dividend  \\\n",
      "0          1871.04                     5.32      103.43           6.06   \n",
      "1          1871.13                     5.32      101.72           5.88   \n",
      "2          1871.21                     5.33      102.68           5.79   \n",
      "3          1871.29                     5.33      109.58           6.01   \n",
      "4          1871.38                     5.33      114.97           6.15   \n",
      "\n",
      "   Real Total Return Price   ...  Excess CAPE Yield  \\\n",
      "0                   103.43   ...                NaN   \n",
      "1                   102.21   ...                NaN   \n",
      "2                   103.66   ...                NaN   \n",
      "3                   111.13   ...                NaN   \n",
      "4                   117.11   ...                NaN   \n",
      "\n",
      "  Monthly Total Bond Returns  Real Total Bond Returns  \\\n",
      "0                        1.0                     1.00   \n",
      "1                        1.0                     0.97   \n",
      "2                        1.0                     0.96   \n",
      "3                        1.0                     1.00   \n",
      "4                        1.0                     1.03   \n",
      "\n",
      "   10 Year Annualized Stock Real Return  \\\n",
      "0                                13.06%   \n",
      "1                                13.09%   \n",
      "2                                13.10%   \n",
      "3                                12.21%   \n",
      "4                                12.26%   \n",
      "\n",
      "   10 Year Annualized Bonds  Real Return  \\\n",
      "0                                  9.25%   \n",
      "1                                  9.46%   \n",
      "2                                  9.62%   \n",
      "3                                  9.10%   \n",
      "4                                  8.95%   \n",
      "\n",
      "  Real 10 Year Excess Annualized  Returns  Unnamed: 21  Unnamed: 22  \\\n",
      "0                                   3.81%          NaN          NaN   \n",
      "1                                   3.62%          NaN          NaN   \n",
      "2                                   3.48%          NaN          NaN   \n",
      "3                                   3.11%          NaN          NaN   \n",
      "4                                   3.31%          NaN          NaN   \n",
      "\n",
      "  Unnamed: 23 Unnamed: 24  \n",
      "0         NaN         NaN  \n",
      "1         NaN         NaN  \n",
      "2         NaN         NaN  \n",
      "3         NaN         NaN  \n",
      "4         NaN         NaN  \n",
      "\n",
      "[5 rows x 25 columns]\n"
     ]
    },
    {
     "name": "stderr",
     "output_type": "stream",
     "text": [
      "/tmp/ipykernel_28888/835139016.py:5: FutureWarning: The default value of regex will change from True to False in a future version. In addition, single character regular expressions will *not* be treated as literal strings when regex=True.\n",
      "  macro_df['Date'] = macro_df['Date'].str.replace('.', '-')\n"
     ]
    },
    {
     "data": {
      "text/html": [
       "<div>\n",
       "<style scoped>\n",
       "    .dataframe tbody tr th:only-of-type {\n",
       "        vertical-align: middle;\n",
       "    }\n",
       "\n",
       "    .dataframe tbody tr th {\n",
       "        vertical-align: top;\n",
       "    }\n",
       "\n",
       "    .dataframe thead th {\n",
       "        text-align: right;\n",
       "    }\n",
       "</style>\n",
       "<table border=\"1\" class=\"dataframe\">\n",
       "  <thead>\n",
       "    <tr style=\"text-align: right;\">\n",
       "      <th></th>\n",
       "      <th>Date</th>\n",
       "      <th>S&amp;P Comp.</th>\n",
       "      <th>Dividend</th>\n",
       "      <th>Earnings</th>\n",
       "      <th>Consumer Price Index CPI</th>\n",
       "      <th>Date Fraction</th>\n",
       "      <th>Long Interest Rate GS10</th>\n",
       "      <th>Real Price</th>\n",
       "      <th>Real Dividend</th>\n",
       "      <th>Real Total Return Price</th>\n",
       "      <th>...</th>\n",
       "      <th>Excess CAPE Yield</th>\n",
       "      <th>Monthly Total Bond Returns</th>\n",
       "      <th>Real Total Bond Returns</th>\n",
       "      <th>10 Year Annualized Stock Real Return</th>\n",
       "      <th>10 Year Annualized Bonds  Real Return</th>\n",
       "      <th>Real 10 Year Excess Annualized  Returns</th>\n",
       "      <th>Unnamed: 21</th>\n",
       "      <th>Unnamed: 22</th>\n",
       "      <th>Unnamed: 23</th>\n",
       "      <th>Unnamed: 24</th>\n",
       "    </tr>\n",
       "  </thead>\n",
       "  <tbody>\n",
       "    <tr>\n",
       "      <th>0</th>\n",
       "      <td>1871-01-01</td>\n",
       "      <td>4.44</td>\n",
       "      <td>0.26</td>\n",
       "      <td>0.4</td>\n",
       "      <td>12.46</td>\n",
       "      <td>1871.04</td>\n",
       "      <td>5.32</td>\n",
       "      <td>103.43</td>\n",
       "      <td>6.06</td>\n",
       "      <td>103.43</td>\n",
       "      <td>...</td>\n",
       "      <td>NaN</td>\n",
       "      <td>1.0</td>\n",
       "      <td>1.00</td>\n",
       "      <td>13.06%</td>\n",
       "      <td>9.25%</td>\n",
       "      <td>3.81%</td>\n",
       "      <td>NaN</td>\n",
       "      <td>NaN</td>\n",
       "      <td>NaN</td>\n",
       "      <td>NaN</td>\n",
       "    </tr>\n",
       "    <tr>\n",
       "      <th>1</th>\n",
       "      <td>1871-02-01</td>\n",
       "      <td>4.50</td>\n",
       "      <td>0.26</td>\n",
       "      <td>0.4</td>\n",
       "      <td>12.84</td>\n",
       "      <td>1871.13</td>\n",
       "      <td>5.32</td>\n",
       "      <td>101.72</td>\n",
       "      <td>5.88</td>\n",
       "      <td>102.21</td>\n",
       "      <td>...</td>\n",
       "      <td>NaN</td>\n",
       "      <td>1.0</td>\n",
       "      <td>0.97</td>\n",
       "      <td>13.09%</td>\n",
       "      <td>9.46%</td>\n",
       "      <td>3.62%</td>\n",
       "      <td>NaN</td>\n",
       "      <td>NaN</td>\n",
       "      <td>NaN</td>\n",
       "      <td>NaN</td>\n",
       "    </tr>\n",
       "    <tr>\n",
       "      <th>2</th>\n",
       "      <td>1871-03-01</td>\n",
       "      <td>4.61</td>\n",
       "      <td>0.26</td>\n",
       "      <td>0.4</td>\n",
       "      <td>13.03</td>\n",
       "      <td>1871.21</td>\n",
       "      <td>5.33</td>\n",
       "      <td>102.68</td>\n",
       "      <td>5.79</td>\n",
       "      <td>103.66</td>\n",
       "      <td>...</td>\n",
       "      <td>NaN</td>\n",
       "      <td>1.0</td>\n",
       "      <td>0.96</td>\n",
       "      <td>13.10%</td>\n",
       "      <td>9.62%</td>\n",
       "      <td>3.48%</td>\n",
       "      <td>NaN</td>\n",
       "      <td>NaN</td>\n",
       "      <td>NaN</td>\n",
       "      <td>NaN</td>\n",
       "    </tr>\n",
       "    <tr>\n",
       "      <th>3</th>\n",
       "      <td>1871-04-01</td>\n",
       "      <td>4.74</td>\n",
       "      <td>0.26</td>\n",
       "      <td>0.4</td>\n",
       "      <td>12.56</td>\n",
       "      <td>1871.29</td>\n",
       "      <td>5.33</td>\n",
       "      <td>109.58</td>\n",
       "      <td>6.01</td>\n",
       "      <td>111.13</td>\n",
       "      <td>...</td>\n",
       "      <td>NaN</td>\n",
       "      <td>1.0</td>\n",
       "      <td>1.00</td>\n",
       "      <td>12.21%</td>\n",
       "      <td>9.10%</td>\n",
       "      <td>3.11%</td>\n",
       "      <td>NaN</td>\n",
       "      <td>NaN</td>\n",
       "      <td>NaN</td>\n",
       "      <td>NaN</td>\n",
       "    </tr>\n",
       "    <tr>\n",
       "      <th>4</th>\n",
       "      <td>1871-05-01</td>\n",
       "      <td>4.86</td>\n",
       "      <td>0.26</td>\n",
       "      <td>0.4</td>\n",
       "      <td>12.27</td>\n",
       "      <td>1871.38</td>\n",
       "      <td>5.33</td>\n",
       "      <td>114.97</td>\n",
       "      <td>6.15</td>\n",
       "      <td>117.11</td>\n",
       "      <td>...</td>\n",
       "      <td>NaN</td>\n",
       "      <td>1.0</td>\n",
       "      <td>1.03</td>\n",
       "      <td>12.26%</td>\n",
       "      <td>8.95%</td>\n",
       "      <td>3.31%</td>\n",
       "      <td>NaN</td>\n",
       "      <td>NaN</td>\n",
       "      <td>NaN</td>\n",
       "      <td>NaN</td>\n",
       "    </tr>\n",
       "  </tbody>\n",
       "</table>\n",
       "<p>5 rows × 25 columns</p>\n",
       "</div>"
      ],
      "text/plain": [
       "        Date  S&P Comp.  Dividend  Earnings    Consumer Price Index CPI  \\\n",
       "0 1871-01-01       4.44      0.26       0.4                       12.46   \n",
       "1 1871-02-01       4.50      0.26       0.4                       12.84   \n",
       "2 1871-03-01       4.61      0.26       0.4                       13.03   \n",
       "3 1871-04-01       4.74      0.26       0.4                       12.56   \n",
       "4 1871-05-01       4.86      0.26       0.4                       12.27   \n",
       "\n",
       "   Date Fraction    Long Interest Rate GS10  Real Price  Real Dividend  \\\n",
       "0          1871.04                     5.32      103.43           6.06   \n",
       "1          1871.13                     5.32      101.72           5.88   \n",
       "2          1871.21                     5.33      102.68           5.79   \n",
       "3          1871.29                     5.33      109.58           6.01   \n",
       "4          1871.38                     5.33      114.97           6.15   \n",
       "\n",
       "   Real Total Return Price   ...  Excess CAPE Yield  \\\n",
       "0                   103.43   ...                NaN   \n",
       "1                   102.21   ...                NaN   \n",
       "2                   103.66   ...                NaN   \n",
       "3                   111.13   ...                NaN   \n",
       "4                   117.11   ...                NaN   \n",
       "\n",
       "  Monthly Total Bond Returns  Real Total Bond Returns  \\\n",
       "0                        1.0                     1.00   \n",
       "1                        1.0                     0.97   \n",
       "2                        1.0                     0.96   \n",
       "3                        1.0                     1.00   \n",
       "4                        1.0                     1.03   \n",
       "\n",
       "   10 Year Annualized Stock Real Return  \\\n",
       "0                                13.06%   \n",
       "1                                13.09%   \n",
       "2                                13.10%   \n",
       "3                                12.21%   \n",
       "4                                12.26%   \n",
       "\n",
       "   10 Year Annualized Bonds  Real Return  \\\n",
       "0                                  9.25%   \n",
       "1                                  9.46%   \n",
       "2                                  9.62%   \n",
       "3                                  9.10%   \n",
       "4                                  8.95%   \n",
       "\n",
       "  Real 10 Year Excess Annualized  Returns  Unnamed: 21  Unnamed: 22  \\\n",
       "0                                   3.81%          NaN          NaN   \n",
       "1                                   3.62%          NaN          NaN   \n",
       "2                                   3.48%          NaN          NaN   \n",
       "3                                   3.11%          NaN          NaN   \n",
       "4                                   3.31%          NaN          NaN   \n",
       "\n",
       "  Unnamed: 23 Unnamed: 24  \n",
       "0         NaN         NaN  \n",
       "1         NaN         NaN  \n",
       "2         NaN         NaN  \n",
       "3         NaN         NaN  \n",
       "4         NaN         NaN  \n",
       "\n",
       "[5 rows x 25 columns]"
      ]
     },
     "execution_count": 5,
     "metadata": {},
     "output_type": "execute_result"
    }
   ],
   "source": [
    "macro_df = pd.read_csv('data/Macroecon_US.csv')\n",
    "\n",
    "# Get the Date column in to a format strftime can handle\n",
    "macro_df['Date'] = macro_df['Date'].astype('str') + '.01'  # Assume data is from the first of each month\n",
    "macro_df['Date'] = macro_df['Date'].str.replace('.', '-')\n",
    "print(macro_df.head())\n",
    "\n",
    "# Convert to datetime object\n",
    "macro_df['Date'] = pd.to_datetime(macro_df['Date'], format='%Y.%m')\n",
    "\n",
    "macro_df.head()"
   ]
  },
  {
   "cell_type": "code",
   "execution_count": 6,
   "metadata": {},
   "outputs": [
    {
     "data": {
      "text/html": [
       "<div>\n",
       "<style scoped>\n",
       "    .dataframe tbody tr th:only-of-type {\n",
       "        vertical-align: middle;\n",
       "    }\n",
       "\n",
       "    .dataframe tbody tr th {\n",
       "        vertical-align: top;\n",
       "    }\n",
       "\n",
       "    .dataframe thead th {\n",
       "        text-align: right;\n",
       "    }\n",
       "</style>\n",
       "<table border=\"1\" class=\"dataframe\">\n",
       "  <thead>\n",
       "    <tr style=\"text-align: right;\">\n",
       "      <th></th>\n",
       "      <th>DATE</th>\n",
       "      <th>MSACSR</th>\n",
       "    </tr>\n",
       "  </thead>\n",
       "  <tbody>\n",
       "    <tr>\n",
       "      <th>0</th>\n",
       "      <td>1963-01-01</td>\n",
       "      <td>4.7</td>\n",
       "    </tr>\n",
       "    <tr>\n",
       "      <th>1</th>\n",
       "      <td>1963-02-01</td>\n",
       "      <td>6.6</td>\n",
       "    </tr>\n",
       "    <tr>\n",
       "      <th>2</th>\n",
       "      <td>1963-03-01</td>\n",
       "      <td>6.4</td>\n",
       "    </tr>\n",
       "    <tr>\n",
       "      <th>3</th>\n",
       "      <td>1963-04-01</td>\n",
       "      <td>5.3</td>\n",
       "    </tr>\n",
       "    <tr>\n",
       "      <th>4</th>\n",
       "      <td>1963-05-01</td>\n",
       "      <td>5.1</td>\n",
       "    </tr>\n",
       "  </tbody>\n",
       "</table>\n",
       "</div>"
      ],
      "text/plain": [
       "        DATE  MSACSR\n",
       "0 1963-01-01     4.7\n",
       "1 1963-02-01     6.6\n",
       "2 1963-03-01     6.4\n",
       "3 1963-04-01     5.3\n",
       "4 1963-05-01     5.1"
      ]
     },
     "execution_count": 6,
     "metadata": {},
     "output_type": "execute_result"
    }
   ],
   "source": [
    "supply_df = pd.read_csv('data/Monthly_Supply_New_Houses_US.csv')\n",
    "\n",
    "supply_df['DATE'] = pd.to_datetime(supply_df['DATE'], format='%Y-%m-%d')\n",
    "\n",
    "supply_df.head()"
   ]
  },
  {
   "cell_type": "code",
   "execution_count": 7,
   "metadata": {},
   "outputs": [
    {
     "data": {
      "image/png": "[encoded data removed]",
      "text/plain": [
       "<Figure size 432x288 with 1 Axes>"
      ]
     },
     "metadata": {
      "needs_background": "light"
     },
     "output_type": "display_data"
    }
   ],
   "source": [
    "supply_df.plot.line('DATE', 'MSACSR')\n",
    "plt.show()"
   ]
  },
  {
   "cell_type": "markdown",
   "metadata": {},
   "source": [
    "# Model"
   ]
  },
  {
   "cell_type": "code",
   "execution_count": 8,
   "metadata": {},
   "outputs": [
    {
     "name": "stderr",
     "output_type": "stream",
     "text": [
      "/home/harrison/anaconda3/envs/mas-thesis/lib/python3.10/site-packages/tqdm/auto.py:22: TqdmWarning: IProgress not found. Please update jupyter and ipywidgets. See https://ipywidgets.readthedocs.io/en/stable/user_install.html\n",
      "  from .autonotebook import tqdm as notebook_tqdm\n"
     ]
    }
   ],
   "source": [
    "import torch\n",
    "import sklearn.model_selection\n",
    "import sklearn.preprocessing"
   ]
  },
  {
   "cell_type": "markdown",
   "metadata": {},
   "source": [
    "### Data Wrangling"
   ]
  },
  {
   "cell_type": "code",
   "execution_count": 26,
   "metadata": {},
   "outputs": [
    {
     "name": "stdout",
     "output_type": "stream",
     "text": [
      "(237, 1) (237, 1)\n"
     ]
    },
    {
     "data": {
      "text/html": [
       "<div>\n",
       "<style scoped>\n",
       "    .dataframe tbody tr th:only-of-type {\n",
       "        vertical-align: middle;\n",
       "    }\n",
       "\n",
       "    .dataframe tbody tr th {\n",
       "        vertical-align: top;\n",
       "    }\n",
       "\n",
       "    .dataframe thead th {\n",
       "        text-align: right;\n",
       "    }\n",
       "</style>\n",
       "<table border=\"1\" class=\"dataframe\">\n",
       "  <thead>\n",
       "    <tr style=\"text-align: right;\">\n",
       "      <th></th>\n",
       "      <th>MSACSR</th>\n",
       "    </tr>\n",
       "    <tr>\n",
       "      <th>DATE</th>\n",
       "      <th></th>\n",
       "    </tr>\n",
       "  </thead>\n",
       "  <tbody>\n",
       "    <tr>\n",
       "      <th>1963-01-01</th>\n",
       "      <td>17.7</td>\n",
       "    </tr>\n",
       "    <tr>\n",
       "      <th>1963-04-01</th>\n",
       "      <td>16.4</td>\n",
       "    </tr>\n",
       "    <tr>\n",
       "      <th>1963-07-01</th>\n",
       "      <td>15.6</td>\n",
       "    </tr>\n",
       "    <tr>\n",
       "      <th>1963-10-01</th>\n",
       "      <td>17.5</td>\n",
       "    </tr>\n",
       "    <tr>\n",
       "      <th>1964-01-01</th>\n",
       "      <td>17.1</td>\n",
       "    </tr>\n",
       "  </tbody>\n",
       "</table>\n",
       "</div>"
      ],
      "text/plain": [
       "            MSACSR\n",
       "DATE              \n",
       "1963-01-01    17.7\n",
       "1963-04-01    16.4\n",
       "1963-07-01    15.6\n",
       "1963-10-01    17.5\n",
       "1964-01-01    17.1"
      ]
     },
     "execution_count": 26,
     "metadata": {},
     "output_type": "execute_result"
    }
   ],
   "source": [
    "# Sum every 3 months to get cumulative quarterly supply change\n",
    "agg_func_supply = {'DATE': 'first', 'MSACSR': 'sum'}  # Keep the first date and sum supply\n",
    "quarterly_supply = supply_df.groupby(supply_df.index // 3).agg(agg_func_supply)\n",
    "\n",
    "# Trim last quarter to match price data length\n",
    "quarterly_supply = quarterly_supply[:-1]\n",
    "\n",
    "# Set date columns to indices for time-series\n",
    "quarterly_supply = quarterly_supply.set_index('DATE')\n",
    "prices = price_df.set_index('DATE')\n",
    "\n",
    "print(quarterly_supply.shape, prices.shape)\n",
    "quarterly_supply.head()"
   ]
  },
  {
   "cell_type": "markdown",
   "metadata": {},
   "source": [
    "### Data Pre-Processing"
   ]
  },
  {
   "cell_type": "code",
   "execution_count": 27,
   "metadata": {},
   "outputs": [],
   "source": [
    "X = quarterly_supply\n",
    "y = prices"
   ]
  },
  {
   "cell_type": "code",
   "execution_count": 30,
   "metadata": {},
   "outputs": [
    {
     "name": "stdout",
     "output_type": "stream",
     "text": [
      "torch.Size([189, 1, 1])\n",
      "torch.Size([189, 1, 1])\n"
     ]
    }
   ],
   "source": [
    "# Make train and validation sets\n",
    "X_train, X_val, y_train, y_val = sklearn.model_selection.train_test_split(X, y, test_size=0.2)\n",
    "\n",
    "\n",
    "# Convert datasets to nodes in computational graph\n",
    "X_train_tensors = torch.Tensor(X_train.values)\n",
    "y_train_tensors = torch.Tensor(y_train.values)\n",
    "X_val_tensors = torch.Tensor(y_train.values)\n",
    "y_val_tensors = torch.Tensor(y_val.values)\n",
    "\n",
    "# Convert to sequential data for pytorch\n",
    "X_train_tensors = torch.reshape(X_train_tensors, (X_train_tensors.shape[0], 1, X_train_tensors.shape[1]))\n",
    "X_val_tensors = torch.reshape(X_val_tensors, (X_val_tensors.shape[0], 1, X_val_tensors.shape[1]))\n",
    "\n",
    "print(X_train_tensors.shape)\n",
    "print(X_val_tensors.shape)"
   ]
  },
  {
   "cell_type": "markdown",
   "metadata": {},
   "source": [
    "### Define the Model"
   ]
  },
  {
   "cell_type": "code",
   "execution_count": null,
   "metadata": {},
   "outputs": [],
   "source": [
    "# TODO\n",
    "\n",
    "class LSTM(nn.Module):\n",
    "    def __init__(self, num_classes, input_size, hidden_size, num_layers, seq_length):\n",
    "        super(LSTM, self).__init__()\n",
    "        self.num_classes = num_classes\n",
    "        self.num_layers = num_layers\n",
    "        self.input_size = input_size\n",
    "        self.hidden_size = hidden_size\n",
    "        self.seq_length = seq_length\n",
    "        \n",
    "        self.lstm = nn.LSTM(input_size = input_size)"
   ]
  },
  {
   "cell_type": "code",
   "execution_count": null,
   "metadata": {},
   "outputs": [],
   "source": [
    "optimizer = torch.optim.SGD(model.parameters(), lr=1e-3)\n",
    "training_loop(\n",
    "    n_epochs = 500000,\n",
    "    optimizer = optimizer,\n",
    "    model = seq_model,\n",
    "    loss_func = torch.nn.MSELoss(),\n",
    "    X_train = X_train,\n",
    "    X_val = X_val,\n",
    "    y_train = y_train,\n",
    "    y_val = y_val\n",
    ")"
   ]
  }
 ],
 "metadata": {
  "kernelspec": {
   "display_name": "mas-thesis",
   "language": "python",
   "name": "mas-thesis"
  },
  "language_info": {
   "codemirror_mode": {
    "name": "ipython",
    "version": 3
   },
   "file_extension": ".py",
   "mimetype": "text/x-python",
   "name": "python",
   "nbconvert_exporter": "python",
   "pygments_lexer": "ipython3",
   "version": "3.10.4"
  }
 },
 "nbformat": 4,
 "nbformat_minor": 4
}
