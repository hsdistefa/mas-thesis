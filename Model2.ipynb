{
 "cells": [
  {
   "cell_type": "code",
   "execution_count": 1,
   "metadata": {
    "scrolled": true
   },
   "outputs": [
    {
     "name": "stderr",
     "output_type": "stream",
     "text": [
      "/home/harrison/anaconda3/envs/mas-thesis/lib/python3.10/site-packages/tqdm/auto.py:22: TqdmWarning: IProgress not found. Please update jupyter and ipywidgets. See https://ipywidgets.readthedocs.io/en/stable/user_install.html\n",
      "  from .autonotebook import tqdm as notebook_tqdm\n"
     ]
    }
   ],
   "source": [
    "import pandas as pd\n",
    "import torch\n",
    "import sklearn.model_selection\n",
    "import sklearn.preprocessing"
   ]
  },
  {
   "cell_type": "markdown",
   "metadata": {},
   "source": [
    "### Load Data"
   ]
  },
  {
   "cell_type": "code",
   "execution_count": 2,
   "metadata": {},
   "outputs": [
    {
     "name": "stdout",
     "output_type": "stream",
     "text": [
      "<class 'pandas.core.frame.DataFrame'>\n",
      "DatetimeIndex: 592 entries, 1963-01-01 to 2012-04-01\n",
      "Data columns (total 20 columns):\n",
      " #   Column                                                                     Non-Null Count  Dtype  \n",
      "---  ------                                                                     --------------  -----  \n",
      " 0   MSACSR                                                                     592 non-null    float64\n",
      " 1   MSPUS                                                                      592 non-null    float64\n",
      " 2   S&P Comp.                                                                  592 non-null    float64\n",
      " 3   Dividend                                                                   592 non-null    float64\n",
      " 4   Earnings                                                                   592 non-null    float64\n",
      " 5   Consumer Price Index CPI                                                   592 non-null    float64\n",
      " 6   Long Interest Rate GS10                                                    592 non-null    float64\n",
      " 7   Real Price                                                                 592 non-null    float64\n",
      " 8   Real Dividend                                                              592 non-null    float64\n",
      " 9   Real Total Return Price                                                    592 non-null    float64\n",
      " 10  Real Earnings                                                              592 non-null    float64\n",
      " 11  Real TR Scaled Earnings                                                    592 non-null    float64\n",
      " 12  Cyclically Adjusted Price Earnings Ratio P/E10 or CAPE                     592 non-null    float64\n",
      " 13  Cyclically Adjusted Total Return Price Earnings Ratio TR P/E10 or TR CAPE  592 non-null    float64\n",
      " 14  Excess CAPE Yield                                                          592 non-null    float64\n",
      " 15  Monthly Total Bond Returns                                                 592 non-null    float64\n",
      " 16  Real Total Bond Returns                                                    592 non-null    float64\n",
      " 17  10 Year Annualized Stock Real Return                                       592 non-null    float64\n",
      " 18  10 Year Annualized Bonds  Real Return                                      592 non-null    float64\n",
      " 19  Real 10 Year Excess Annualized  Returns                                    592 non-null    float64\n",
      "dtypes: float64(20)\n",
      "memory usage: 97.1 KB\n"
     ]
    }
   ],
   "source": [
    "df = pd.read_pickle('data/processed.pkl')\n",
    "df = df.set_index('DATE')  # Index for timeseries is datetime\n",
    "\n",
    "df.info()"
   ]
  },
  {
   "cell_type": "code",
   "execution_count": 3,
   "metadata": {},
   "outputs": [
    {
     "name": "stdout",
     "output_type": "stream",
     "text": [
      "(592, 19)\n",
      "(592, 1)\n"
     ]
    }
   ],
   "source": [
    "X = df.drop('MSPUS', axis='columns')\n",
    "y = df['MSPUS'].values\n",
    "y = y.reshape(-1, 1)  # Put target variable into column vector shape\n",
    "\n",
    "print(X.shape)\n",
    "print(y.shape)"
   ]
  },
  {
   "cell_type": "markdown",
   "metadata": {},
   "source": [
    "### Data Preprocessing"
   ]
  },
  {
   "cell_type": "code",
   "execution_count": 6,
   "metadata": {},
   "outputs": [
    {
     "name": "stdout",
     "output_type": "stream",
     "text": [
      "X mean: -3.916576246188319e-16\n",
      "X var: 1.0\n",
      "y min: 0.0\n",
      "y max: 1.0000000000000002\n"
     ]
    }
   ],
   "source": [
    "# Scale data\n",
    "\n",
    "standard_scaler = sklearn.preprocessing.StandardScaler()  # Scales to mean of 0 and var of 1\n",
    "minmax_scaler = sklearn.preprocessing.MinMaxScaler()  # Scale to between 0 and 1\n",
    "\n",
    "X_scaled = standard_scaler.fit_transform(X)  \n",
    "y_scaled = minmax_scaler.fit_transform(y)    \n",
    "\n",
    "print(\"X mean:\", X_scaled.mean())\n",
    "print(\"X var:\", X_scaled.var())\n",
    "print(\"y min:\", y_scaled.min())\n",
    "print(\"y max:\", y_scaled.max())"
   ]
  },
  {
   "cell_type": "code",
   "execution_count": null,
   "metadata": {},
   "outputs": [],
   "source": []
  }
 ],
 "metadata": {
  "kernelspec": {
   "display_name": "mas-thesis",
   "language": "python",
   "name": "mas-thesis"
  },
  "language_info": {
   "codemirror_mode": {
    "name": "ipython",
    "version": 3
   },
   "file_extension": ".py",
   "mimetype": "text/x-python",
   "name": "python",
   "nbconvert_exporter": "python",
   "pygments_lexer": "ipython3",
   "version": "3.10.4"
  }
 },
 "nbformat": 4,
 "nbformat_minor": 4
}
