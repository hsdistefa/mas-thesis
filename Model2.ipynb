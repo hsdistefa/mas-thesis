{
 "cells": [
  {
   "cell_type": "code",
   "execution_count": 32,
   "metadata": {
    "scrolled": true
   },
   "outputs": [],
   "source": [
    "import matplotlib.pyplot as plt\n",
    "import numpy as np\n",
    "import pandas as pd\n",
    "import torch\n",
    "import sklearn.model_selection\n",
    "import sklearn.preprocessing\n",
    "\n",
    "%matplotlib inline"
   ]
  },
  {
   "cell_type": "markdown",
   "metadata": {},
   "source": [
    "### Load Data"
   ]
  },
  {
   "cell_type": "code",
   "execution_count": 2,
   "metadata": {},
   "outputs": [
    {
     "name": "stdout",
     "output_type": "stream",
     "text": [
      "<class 'pandas.core.frame.DataFrame'>\n",
      "DatetimeIndex: 592 entries, 1963-01-01 to 2012-04-01\n",
      "Data columns (total 20 columns):\n",
      " #   Column                                                                     Non-Null Count  Dtype  \n",
      "---  ------                                                                     --------------  -----  \n",
      " 0   MSACSR                                                                     592 non-null    float64\n",
      " 1   MSPUS                                                                      592 non-null    float64\n",
      " 2   S&P Comp.                                                                  592 non-null    float64\n",
      " 3   Dividend                                                                   592 non-null    float64\n",
      " 4   Earnings                                                                   592 non-null    float64\n",
      " 5   Consumer Price Index CPI                                                   592 non-null    float64\n",
      " 6   Long Interest Rate GS10                                                    592 non-null    float64\n",
      " 7   Real Price                                                                 592 non-null    float64\n",
      " 8   Real Dividend                                                              592 non-null    float64\n",
      " 9   Real Total Return Price                                                    592 non-null    float64\n",
      " 10  Real Earnings                                                              592 non-null    float64\n",
      " 11  Real TR Scaled Earnings                                                    592 non-null    float64\n",
      " 12  Cyclically Adjusted Price Earnings Ratio P/E10 or CAPE                     592 non-null    float64\n",
      " 13  Cyclically Adjusted Total Return Price Earnings Ratio TR P/E10 or TR CAPE  592 non-null    float64\n",
      " 14  Excess CAPE Yield                                                          592 non-null    float64\n",
      " 15  Monthly Total Bond Returns                                                 592 non-null    float64\n",
      " 16  Real Total Bond Returns                                                    592 non-null    float64\n",
      " 17  10 Year Annualized Stock Real Return                                       592 non-null    float64\n",
      " 18  10 Year Annualized Bonds  Real Return                                      592 non-null    float64\n",
      " 19  Real 10 Year Excess Annualized  Returns                                    592 non-null    float64\n",
      "dtypes: float64(20)\n",
      "memory usage: 97.1 KB\n"
     ]
    }
   ],
   "source": [
    "df = pd.read_pickle('data/processed.pkl')\n",
    "df = df.set_index('DATE')  # Index for timeseries is datetime\n",
    "\n",
    "df.info()"
   ]
  },
  {
   "cell_type": "markdown",
   "metadata": {},
   "source": [
    "### Data Interpolation"
   ]
  },
  {
   "cell_type": "code",
   "execution_count": 3,
   "metadata": {},
   "outputs": [],
   "source": [
    "# Todo: Data interpolation if necessary"
   ]
  },
  {
   "cell_type": "markdown",
   "metadata": {},
   "source": [
    "### Data Preprocessing"
   ]
  },
  {
   "cell_type": "code",
   "execution_count": 4,
   "metadata": {},
   "outputs": [
    {
     "name": "stdout",
     "output_type": "stream",
     "text": [
      "(592, 19)\n",
      "(592, 1)\n"
     ]
    }
   ],
   "source": [
    "# Split into input and target variables\n",
    "\n",
    "X = df.drop('MSPUS', axis='columns')\n",
    "y = df['MSPUS'].values\n",
    "y = y.reshape(-1, 1)  # Put target variable into column vector shape\n",
    "\n",
    "print(X.shape)\n",
    "print(y.shape)"
   ]
  },
  {
   "cell_type": "code",
   "execution_count": 5,
   "metadata": {},
   "outputs": [
    {
     "name": "stdout",
     "output_type": "stream",
     "text": [
      "X mean: -3.916576246188319e-16\n",
      "X var: 1.0\n",
      "y min: 0.0\n",
      "y max: 1.0000000000000002\n"
     ]
    }
   ],
   "source": [
    "# Scale data\n",
    "\n",
    "standard_scaler = sklearn.preprocessing.StandardScaler()  # Scales to mean of 0 and var of 1\n",
    "minmax_scaler = sklearn.preprocessing.MinMaxScaler()  # Scale to between 0 and 1\n",
    "\n",
    "X_scaled = standard_scaler.fit_transform(X)  \n",
    "y_scaled = minmax_scaler.fit_transform(y)    \n",
    "\n",
    "print(\"X mean:\", X_scaled.mean())\n",
    "print(\"X var:\", X_scaled.var())\n",
    "print(\"y min:\", y_scaled.min())\n",
    "print(\"y max:\", y_scaled.max())"
   ]
  },
  {
   "cell_type": "code",
   "execution_count": 6,
   "metadata": {},
   "outputs": [
    {
     "name": "stdout",
     "output_type": "stream",
     "text": [
      "(579, 10, 19) (579, 5)\n"
     ]
    }
   ],
   "source": [
    "# NOTE: These values are for monthly data\n",
    "#       Change these if interpolating!\n",
    "IN_SEQ_LENGTH = 10\n",
    "OUT_SEQ_LENGTH = 5\n",
    "\n",
    "def split_sequences(input_sequences, output_sequence, n_steps_in, n_steps_out):\n",
    "    X = []\n",
    "    y = []\n",
    "    for i in range(len(input_sequences)):\n",
    "        end_ix = i + n_steps_in\n",
    "        out_end_ix = end_ix + n_steps_out - 1\n",
    "        if out_end_ix > len(input_sequences):\n",
    "            break\n",
    "        seq_x, seq_y = input_sequences[i:end_ix], output_sequence[end_ix-1:out_end_ix, -1]\n",
    "        X.append(seq_x), y.append(seq_y)\n",
    "        \n",
    "    return np.array(X), np.array(y)\n",
    "\n",
    "X_seq, y_seq = split_sequences(X_scaled, y_scaled, IN_SEQ_LENGTH, OUT_SEQ_LENGTH)\n",
    "\n",
    "# Make \n",
    "print(X_seq.shape, y_seq.shape)\n",
    "\n",
    "assert y_seq[0].all() == y_scaled[IN_SEQ_LENGTH-1:IN_SEQ_LENGTH-1+OUT_SEQ_LENGTH].squeeze(1).all()"
   ]
  },
  {
   "cell_type": "code",
   "execution_count": 30,
   "metadata": {},
   "outputs": [
    {
     "name": "stdout",
     "output_type": "stream",
     "text": [
      "torch.Size([550, 10, 19])\n",
      "torch.Size([29, 10, 19])\n"
     ]
    }
   ],
   "source": [
    "TEST_SIZE = 0.05\n",
    "\n",
    "# Split data into train and test sets\n",
    "X_train, X_val, y_train, y_val = sklearn.model_selection.train_test_split(X_seq, y_seq, test_size=TEST_SIZE)\n",
    "\n",
    "# Convert datasets to nodes in computational graph\n",
    "X_train_tensors = torch.Tensor(X_train)\n",
    "y_train_tensors = torch.Tensor(y_train)\n",
    "X_val_tensors = torch.Tensor(X_val)\n",
    "y_val_tensors = torch.Tensor(y_val)\n",
    "\n",
    "# Convert to sequential data for pytorch\n",
    "X_train_tensors = torch.reshape(X_train_tensors, \n",
    "                                (X_train_tensors.shape[0], IN_SEQ_LENGTH, X_train_tensors.shape[2])\n",
    "                               )\n",
    "X_val_tensors = torch.reshape(X_val_tensors, (X_val_tensors.shape[0], IN_SEQ_LENGTH, X_val_tensors.shape[2]))\n",
    "\n",
    "\n",
    "print(X_train_tensors.shape)\n",
    "print(X_val_tensors.shape)"
   ]
  },
  {
   "cell_type": "code",
   "execution_count": 8,
   "metadata": {},
   "outputs": [
    {
     "name": "stdout",
     "output_type": "stream",
     "text": [
      "[[7.2000000e+00 1.3044900e+03 2.3430000e+01 8.1310000e+01 2.2347000e+02\n",
      "  3.4100000e+00 1.6948900e+03 3.0440000e+01 8.8240620e+05 1.0564000e+02\n",
      "  5.5001150e+04 2.2900000e+01 2.5270000e+01 3.3600000e+00 1.0000000e+00\n",
      "  4.3690000e+01 1.1900000e+01 1.9500000e+00 9.9500000e+00]\n",
      " [6.7000000e+00 1.3315100e+03 2.3730000e+01 8.2160000e+01 2.2491000e+02\n",
      "  3.4600000e+00 1.7189300e+03 3.0640000e+01 8.9625005e+05 1.0607000e+02\n",
      "  5.5304800e+04 2.3140000e+01 2.5530000e+01 3.2900000e+00 1.0300000e+00\n",
      "  4.3350000e+01 1.2290000e+01 1.9400000e+00 1.0360000e+01]\n",
      " [6.6000000e+00 1.3383100e+03 2.4040000e+01 8.3020000e+01 2.2596000e+02\n",
      "  3.1700000e+00 1.7196200e+03 3.0890000e+01 8.9795133e+05 1.0667000e+02\n",
      "  5.5700790e+04 2.3060000e+01 2.5420000e+01 3.6000000e+00 1.0200000e+00\n",
      "  4.4330000e+01 1.2270000e+01 1.6600000e+00 1.0610000e+01]\n",
      " [6.6000000e+00 1.2872900e+03 2.4340000e+01 8.3870000e+01 2.2572000e+02\n",
      "  3.0000000e+00 1.6558300e+03 3.1310000e+01 8.6600739e+05 1.0788000e+02\n",
      "  5.6422440e+04 2.2100000e+01 2.4360000e+01 3.9300000e+00 1.0000000e+00\n",
      "  4.5140000e+01 1.2770000e+01 1.4900000e+00 1.1290000e+01]]\n"
     ]
    }
   ],
   "source": [
    "# Sanity Check data\n",
    "X_check, y_check = split_sequences(X, y.reshape(-1, 1), IN_SEQ_LENGTH, OUT_SEQ_LENGTH)\n",
    "print(X_check[-1][0:4])\n",
    "\n",
    "start_ix = IN_SEQ_LENGTH + OUT_SEQ_LENGTH\n",
    "\n",
    "#print(X.iloc[-start_ix + 1: -start_ix + 5])"
   ]
  },
  {
   "cell_type": "markdown",
   "metadata": {},
   "source": [
    "### Model"
   ]
  },
  {
   "cell_type": "code",
   "execution_count": 9,
   "metadata": {},
   "outputs": [],
   "source": [
    "# Define model\n",
    "\n",
    "class LSTM(torch.nn.Module):\n",
    "    def __init__(self, n_classes, n_inputs, n_hidden, n_layers):\n",
    "        super().__init__()\n",
    "        self.n_classes = n_classes  # Output size\n",
    "        self.n_inputs = n_inputs  # Input size\n",
    "        self.n_hidden = n_hidden\n",
    "        self.n_layers = n_layers  # Number of reccurrent layers\n",
    "        \n",
    "        self.lstm = torch.nn.LSTM(input_size=n_inputs, \n",
    "                                  hidden_size=n_hidden,\n",
    "                                  num_layers=n_layers,\n",
    "                                  batch_first=True,  # Input/Output layers are of the form (batch, seq, feature)\n",
    "                                  dropout=0.2  # Dropout helps to avoid over-fitting/improves robustness\n",
    "                                 )\n",
    "        self.fc1 = torch.nn.Linear(n_hidden, 128)  # Fully connected layer 1\n",
    "        self.fc2 = torch.nn.Linear(128, n_classes)  # Fully connected layer 2\n",
    "        self.relu = torch.nn.ReLU()  # Activation layer\n",
    "        \n",
    "    def forward(self, X):\n",
    "        # Initialize hidden state\n",
    "        h_0 = torch.Tensor(torch.zeros(self.n_layers, X.size(0), self.n_hidden))\n",
    "        # Initialize cell state\n",
    "        c_0 = torch.Tensor(torch.zeros(self.n_layers, X.size(0), self.n_hidden))\n",
    "        \n",
    "        # Forward propogate inputs\n",
    "        output, (h_n, c_n) = self.lstm(X, (h_0, c_0))\n",
    "        h_n = h_n.view(-1, self.n_hidden)\n",
    "        out = self.relu(h_n)\n",
    "        out = self.fc1(out)\n",
    "        out = self.relu(out)\n",
    "        out = self.fc2(out)\n",
    "        \n",
    "        return out"
   ]
  },
  {
   "cell_type": "code",
   "execution_count": 10,
   "metadata": {},
   "outputs": [],
   "source": [
    "# Define training loop\n",
    "\n",
    "def training_loop(n_epochs, lstm, optimizer, loss_fn, X_train, y_train, X_test, y_test):\n",
    "    for epoch_i in range(n_epochs):\n",
    "        lstm.train()\n",
    "        outputs = lstm.forward(X_train)  # Forward pass\n",
    "        optimizer.zero_grad()  # Calculate gradient, manually set to 0\n",
    "        loss = loss_fn(outputs, y_train)\n",
    "        loss.backward()  # Calculate loss\n",
    "        optimizer.step()  # Backpropogate loss\n",
    "\n",
    "        # Test set loss\n",
    "        lstm.eval()\n",
    "        test_preds = lstm(X_test)\n",
    "        test_loss = loss_fn(test_preds, y_test)\n",
    "        if epoch_i % 100 == 0:\n",
    "            print(\"Epoch {}: Train loss: {:.8f} Test loss: {:.15f}\".format(epoch_i, \n",
    "                                                                          loss.item(),\n",
    "                                                                          test_loss.item()\n",
    "                                                                         )\n",
    "                 )"
   ]
  },
  {
   "cell_type": "code",
   "execution_count": 15,
   "metadata": {},
   "outputs": [
    {
     "name": "stdout",
     "output_type": "stream",
     "text": [
      "Epoch 0: Train loss: 0.24628602 Test loss: 0.257878571748734\n",
      "Epoch 100: Train loss: 0.00212084 Test loss: 0.002428826177493\n",
      "Epoch 200: Train loss: 0.00055869 Test loss: 0.000520960311405\n",
      "Epoch 300: Train loss: 0.00028580 Test loss: 0.000250963144936\n",
      "Epoch 400: Train loss: 0.00019334 Test loss: 0.000197241577553\n",
      "Epoch 500: Train loss: 0.00014663 Test loss: 0.000171701161889\n",
      "Epoch 600: Train loss: 0.00011695 Test loss: 0.000152202715981\n",
      "Epoch 700: Train loss: 0.00010127 Test loss: 0.000132934612338\n",
      "Epoch 800: Train loss: 0.00009008 Test loss: 0.000117096147733\n",
      "Epoch 900: Train loss: 0.00008199 Test loss: 0.000104910955997\n",
      "Epoch 1000: Train loss: 0.00007595 Test loss: 0.000093352115073\n",
      "Epoch 1100: Train loss: 0.00007108 Test loss: 0.000083842271124\n",
      "Epoch 1200: Train loss: 0.00006694 Test loss: 0.000076691045251\n",
      "Epoch 1300: Train loss: 0.00006331 Test loss: 0.000070943940955\n",
      "Epoch 1400: Train loss: 0.00006019 Test loss: 0.000066774577135\n",
      "Epoch 1500: Train loss: 0.00005742 Test loss: 0.000064534448029\n",
      "Epoch 1600: Train loss: 0.00005507 Test loss: 0.000062109298597\n",
      "Epoch 1700: Train loss: 0.00005295 Test loss: 0.000059611807956\n",
      "Epoch 1800: Train loss: 0.00005107 Test loss: 0.000057852808823\n",
      "Epoch 1900: Train loss: 0.00004932 Test loss: 0.000056471984863\n",
      "Epoch 2000: Train loss: 0.00004762 Test loss: 0.000055621527281\n",
      "Epoch 2100: Train loss: 0.00004585 Test loss: 0.000053102517995\n",
      "Epoch 2200: Train loss: 0.00004423 Test loss: 0.000050651400670\n",
      "Epoch 2300: Train loss: 0.00004279 Test loss: 0.000049878934078\n",
      "Epoch 2400: Train loss: 0.00004148 Test loss: 0.000048533507652\n",
      "Epoch 2500: Train loss: 0.00004027 Test loss: 0.000047378682211\n",
      "Epoch 2600: Train loss: 0.00003907 Test loss: 0.000045946195314\n",
      "Epoch 2700: Train loss: 0.00003795 Test loss: 0.000044658328989\n",
      "Epoch 2800: Train loss: 0.00003691 Test loss: 0.000044072752644\n",
      "Epoch 2900: Train loss: 0.00003588 Test loss: 0.000043482221372\n",
      "Epoch 3000: Train loss: 0.00003487 Test loss: 0.000042739327910\n",
      "Epoch 3100: Train loss: 0.00003397 Test loss: 0.000041902061639\n",
      "Epoch 3200: Train loss: 0.00003314 Test loss: 0.000041476287151\n",
      "Epoch 3300: Train loss: 0.00003234 Test loss: 0.000040749469918\n",
      "Epoch 3400: Train loss: 0.00003158 Test loss: 0.000039710852434\n",
      "Epoch 3500: Train loss: 0.00003085 Test loss: 0.000039086819015\n",
      "Epoch 3600: Train loss: 0.00003012 Test loss: 0.000038594760554\n",
      "Epoch 3700: Train loss: 0.00002941 Test loss: 0.000037720230466\n",
      "Epoch 3800: Train loss: 0.00002865 Test loss: 0.000037589918065\n",
      "Epoch 3900: Train loss: 0.00002788 Test loss: 0.000035721750464\n",
      "Epoch 4000: Train loss: 0.00002715 Test loss: 0.000035037894122\n",
      "Epoch 4100: Train loss: 0.00002643 Test loss: 0.000035126267903\n",
      "Epoch 4200: Train loss: 0.00002568 Test loss: 0.000033672986319\n",
      "Epoch 4300: Train loss: 0.00002485 Test loss: 0.000032936375646\n",
      "Epoch 4400: Train loss: 0.00002404 Test loss: 0.000031432377000\n",
      "Epoch 4500: Train loss: 0.00002324 Test loss: 0.000031822160963\n",
      "Epoch 4600: Train loss: 0.00002246 Test loss: 0.000032473835745\n",
      "Epoch 4700: Train loss: 0.00002165 Test loss: 0.000032654741517\n",
      "Epoch 4800: Train loss: 0.00002077 Test loss: 0.000032693013054\n",
      "Epoch 4900: Train loss: 0.00002011 Test loss: 0.000029794933653\n",
      "Epoch 5000: Train loss: 0.00001922 Test loss: 0.000031042149203\n",
      "Epoch 5100: Train loss: 0.00001863 Test loss: 0.000033993212128\n",
      "Epoch 5200: Train loss: 0.00001807 Test loss: 0.000029562053896\n",
      "Epoch 5300: Train loss: 0.00001743 Test loss: 0.000032000301871\n",
      "Epoch 5400: Train loss: 0.00001678 Test loss: 0.000029838165574\n",
      "Epoch 5500: Train loss: 0.00001631 Test loss: 0.000031420539017\n",
      "Epoch 5600: Train loss: 0.00001583 Test loss: 0.000028271793781\n",
      "Epoch 5700: Train loss: 0.00001550 Test loss: 0.000027667827453\n",
      "Epoch 5800: Train loss: 0.00001522 Test loss: 0.000031853447581\n",
      "Epoch 5900: Train loss: 0.00001465 Test loss: 0.000027227437386\n",
      "Epoch 6000: Train loss: 0.00001531 Test loss: 0.000026848392736\n",
      "Epoch 6100: Train loss: 0.00001404 Test loss: 0.000027045372917\n",
      "Epoch 6200: Train loss: 0.00001377 Test loss: 0.000026884170438\n",
      "Epoch 6300: Train loss: 0.00001409 Test loss: 0.000026923622499\n",
      "Epoch 6400: Train loss: 0.00001305 Test loss: 0.000027523883546\n",
      "Epoch 6500: Train loss: 0.00001332 Test loss: 0.000031142240914\n",
      "Epoch 6600: Train loss: 0.00001290 Test loss: 0.000030761337257\n",
      "Epoch 6700: Train loss: 0.00001231 Test loss: 0.000028927765015\n",
      "Epoch 6800: Train loss: 0.00001306 Test loss: 0.000031043873605\n",
      "Epoch 6900: Train loss: 0.00001189 Test loss: 0.000028293618016\n",
      "Epoch 7000: Train loss: 0.00001186 Test loss: 0.000029303235351\n",
      "Epoch 7100: Train loss: 0.00001151 Test loss: 0.000026700294256\n",
      "Epoch 7200: Train loss: 0.00001132 Test loss: 0.000026981308110\n",
      "Epoch 7300: Train loss: 0.00001111 Test loss: 0.000026838075428\n",
      "Epoch 7400: Train loss: 0.00001104 Test loss: 0.000026294526833\n",
      "Epoch 7500: Train loss: 0.00001089 Test loss: 0.000026542575142\n",
      "Epoch 7600: Train loss: 0.00001063 Test loss: 0.000026538024031\n",
      "Epoch 7700: Train loss: 0.00001059 Test loss: 0.000025340530556\n",
      "Epoch 7800: Train loss: 0.00001534 Test loss: 0.000026432377126\n",
      "Epoch 7900: Train loss: 0.00001084 Test loss: 0.000028851856769\n",
      "Epoch 8000: Train loss: 0.00001135 Test loss: 0.000028540303902\n",
      "Epoch 8100: Train loss: 0.00000993 Test loss: 0.000024673088774\n",
      "Epoch 8200: Train loss: 0.00000976 Test loss: 0.000024786886570\n",
      "Epoch 8300: Train loss: 0.00000982 Test loss: 0.000025396875571\n",
      "Epoch 8400: Train loss: 0.00000948 Test loss: 0.000024443323127\n",
      "Epoch 8500: Train loss: 0.00001074 Test loss: 0.000028793132515\n",
      "Epoch 8600: Train loss: 0.00000948 Test loss: 0.000023327631425\n",
      "Epoch 8700: Train loss: 0.00000918 Test loss: 0.000023432210583\n",
      "Epoch 8800: Train loss: 0.00000905 Test loss: 0.000023068374503\n",
      "Epoch 8900: Train loss: 0.00000932 Test loss: 0.000022689231628\n",
      "Epoch 9000: Train loss: 0.00000915 Test loss: 0.000024760476663\n",
      "Epoch 9100: Train loss: 0.00000976 Test loss: 0.000027168551242\n",
      "Epoch 9200: Train loss: 0.00000883 Test loss: 0.000023097738449\n",
      "Epoch 9300: Train loss: 0.00000868 Test loss: 0.000025412480682\n",
      "Epoch 9400: Train loss: 0.00001288 Test loss: 0.000032696385460\n",
      "Epoch 9500: Train loss: 0.00000841 Test loss: 0.000024611945264\n",
      "Epoch 9600: Train loss: 0.00001065 Test loss: 0.000023069906092\n",
      "Epoch 9700: Train loss: 0.00000826 Test loss: 0.000024690365535\n",
      "Epoch 9800: Train loss: 0.00000971 Test loss: 0.000025837653084\n",
      "Epoch 9900: Train loss: 0.00001088 Test loss: 0.000023294956918\n"
     ]
    }
   ],
   "source": [
    "# Run model\n",
    "\n",
    "\n",
    "# Define model parameters\n",
    "N_EPOCHS = 10000\n",
    "LEARNING_RATE = 0.001\n",
    "\n",
    "INPUT_SIZE = X.shape[1]  # Number of features\n",
    "HIDDEN_SIZE = 10  # Number of features in hidden state\n",
    "N_LAYERS = 1 # Number of stacked lstm layers\n",
    "\n",
    "N_CLASSES = OUT_SEQ_LENGTH  # Equal to how many timesteps in future we want to predict\n",
    "\n",
    "lstm1 = LSTM(N_CLASSES,\n",
    "            INPUT_SIZE,\n",
    "            HIDDEN_SIZE,\n",
    "            N_LAYERS\n",
    "           )\n",
    "\n",
    "# Define loss function\n",
    "loss_fn = torch.nn.MSELoss()\n",
    "optimizer = torch.optim.Adam(lstm1.parameters(), lr=LEARNING_RATE)\n",
    "\n",
    "# Run training loop\n",
    "training_loop(n_epochs=N_EPOCHS,\n",
    "              lstm=lstm1,\n",
    "              optimizer=optimizer,\n",
    "              loss_fn=loss_fn,\n",
    "              X_train=X_train_tensors,\n",
    "              y_train=y_train_tensors,\n",
    "              X_test=X_val_tensors,\n",
    "              y_test=y_val_tensors\n",
    "             )"
   ]
  },
  {
   "cell_type": "markdown",
   "metadata": {},
   "source": [
    "### Plot Results"
   ]
  },
  {
   "cell_type": "code",
   "execution_count": 37,
   "metadata": {},
   "outputs": [
    {
     "data": {
      "image/png": "[encoded data removed]",
      "text/plain": [
       "<Figure size 720x432 with 1 Axes>"
      ]
     },
     "metadata": {
      "needs_background": "light"
     },
     "output_type": "display_data"
    }
   ],
   "source": [
    "# Plot predictions vs actual\n",
    "\n",
    "# Get data into the right format\n",
    "X_tensors = torch.Tensor(X_seq)\n",
    "y_tensors = torch.Tensor(y_seq)\n",
    "\n",
    "X_tensors = torch.reshape(X_tensors, (X_tensors.shape[0], IN_SEQ_LENGTH, X_tensors.shape[2]))\n",
    "\n",
    "# Get predictions and actual\n",
    "predictions_scaled = lstm1(X_tensors).data.numpy()  # Convert to numpy for plotting\n",
    "actual_scaled = y_tensors.data.numpy()\n",
    "\n",
    "# Reverse scaling transformations\n",
    "predictions_seq = minmax_scaler.inverse_transform(predictions_scaled)  # y values used minmax scaler earlier\n",
    "actual_seq = minmax_scaler.inverse_transform(actual_scaled)\n",
    "\n",
    "# Reverse sequence transformations\n",
    "predictions = [predictions_seq[i][0] for i in range(len(predictions_seq))]\n",
    "actual = [actual_seq[i][0] for i in range(len(actual_seq))]\n",
    "\n",
    "# Plot\n",
    "plt.figure(figsize=(10, 6))\n",
    "\n",
    "train_test_cutoff = round((1-TEST_SIZE) * X.shape[0])  # Index where test data starts\n",
    "plt.axvline(x=train_test_cutoff, c='red', linestyle='--')\n",
    "\n",
    "plt.plot(actual, label='Actual')\n",
    "plt.plot(predictions, label='Predicted')\n",
    "plt.legend()\n",
    "plt.show()"
   ]
  }
 ],
 "metadata": {
  "kernelspec": {
   "display_name": "mas-thesis",
   "language": "python",
   "name": "mas-thesis"
  },
  "language_info": {
   "codemirror_mode": {
    "name": "ipython",
    "version": 3
   },
   "file_extension": ".py",
   "mimetype": "text/x-python",
   "name": "python",
   "nbconvert_exporter": "python",
   "pygments_lexer": "ipython3",
   "version": "3.10.4"
  }
 },
 "nbformat": 4,
 "nbformat_minor": 4
}
