{
 "cells": [
  {
   "cell_type": "code",
   "execution_count": 4,
   "metadata": {
    "scrolled": true
   },
   "outputs": [],
   "source": [
    "import matplotlib.pyplot as plt\n",
    "import numpy as np\n",
    "import pandas as pd\n",
    "import torch\n",
    "import sklearn.model_selection\n",
    "import sklearn.preprocessing\n",
    "\n",
    "%matplotlib inline"
   ]
  },
  {
   "cell_type": "markdown",
   "metadata": {},
   "source": [
    "### Load Data"
   ]
  },
  {
   "cell_type": "code",
   "execution_count": 5,
   "metadata": {},
   "outputs": [
    {
     "name": "stdout",
     "output_type": "stream",
     "text": [
      "<class 'pandas.core.frame.DataFrame'>\n",
      "DatetimeIndex: 708 entries, 1963-01-01 to 2021-12-01\n",
      "Data columns (total 18 columns):\n",
      " #   Column                      Non-Null Count  Dtype  \n",
      "---  ------                      --------------  -----  \n",
      " 0   MSACSR                      708 non-null    float64\n",
      " 1   MSPUS                       708 non-null    float64\n",
      " 2   S&P Comp.                   708 non-null    float64\n",
      " 3   Dividend                    708 non-null    float64\n",
      " 4   Earnings                    708 non-null    float64\n",
      " 5   CPI                         708 non-null    float64\n",
      " 6   Long Interest Rate GS10     708 non-null    float64\n",
      " 7   Real Price                  708 non-null    float64\n",
      " 8   Real Dividend               708 non-null    float64\n",
      " 9   Real Total Return Price     708 non-null    float64\n",
      " 10  Real Earnings               708 non-null    float64\n",
      " 11  Real TR Scaled Earnings     708 non-null    float64\n",
      " 12  CAPE                        708 non-null    float64\n",
      " 13  Total Return CAPE           708 non-null    float64\n",
      " 14  Excess CAPE Yield           708 non-null    float64\n",
      " 15  Monthly Total Bond Returns  708 non-null    float64\n",
      " 16  Real Total Bond Returns     708 non-null    float64\n",
      " 17  logdiff_MSPUS               707 non-null    float64\n",
      "dtypes: float64(18)\n",
      "memory usage: 105.1 KB\n"
     ]
    }
   ],
   "source": [
    "df_raw = pd.read_pickle('data/processed.pkl')\n",
    "df_raw = df_raw.set_index('DATE')  # Index for timeseries is datetime\n",
    "\n",
    "df_raw.info()"
   ]
  },
  {
   "cell_type": "markdown",
   "metadata": {},
   "source": [
    "### Data Interpolation"
   ]
  },
  {
   "cell_type": "code",
   "execution_count": 6,
   "metadata": {},
   "outputs": [],
   "source": [
    "# Todo: Data interpolation if necessary"
   ]
  },
  {
   "cell_type": "markdown",
   "metadata": {},
   "source": [
    "### Data Preprocessing"
   ]
  },
  {
   "cell_type": "code",
   "execution_count": 7,
   "metadata": {},
   "outputs": [
    {
     "name": "stdout",
     "output_type": "stream",
     "text": [
      "(707, 18)\n",
      "<class 'pandas.core.frame.DataFrame'>\n",
      "DatetimeIndex: 707 entries, 1963-02-01 to 2021-12-01\n",
      "Data columns (total 18 columns):\n",
      " #   Column                      Non-Null Count  Dtype  \n",
      "---  ------                      --------------  -----  \n",
      " 0   MSACSR                      707 non-null    float64\n",
      " 1   S&P Comp.                   707 non-null    float64\n",
      " 2   Dividend                    707 non-null    float64\n",
      " 3   Earnings                    707 non-null    float64\n",
      " 4   CPI                         707 non-null    float64\n",
      " 5   Long Interest Rate GS10     707 non-null    float64\n",
      " 6   Real Price                  707 non-null    float64\n",
      " 7   Real Dividend               707 non-null    float64\n",
      " 8   Real Total Return Price     707 non-null    float64\n",
      " 9   Real Earnings               707 non-null    float64\n",
      " 10  Real TR Scaled Earnings     707 non-null    float64\n",
      " 11  CAPE                        707 non-null    float64\n",
      " 12  Total Return CAPE           707 non-null    float64\n",
      " 13  Excess CAPE Yield           707 non-null    float64\n",
      " 14  Monthly Total Bond Returns  707 non-null    float64\n",
      " 15  Real Total Bond Returns     707 non-null    float64\n",
      " 16  logdiff_MSPUS               707 non-null    float64\n",
      " 17  target                      707 non-null    float64\n",
      "dtypes: float64(18)\n",
      "memory usage: 104.9 KB\n"
     ]
    }
   ],
   "source": [
    "df = df_raw.copy()\n",
    "\n",
    "# Set target variable\n",
    "df['target'] = df_raw['logdiff_MSPUS']\n",
    "\n",
    "# Remove extraneous columns\n",
    "df = df.drop(['MSPUS'], axis='columns')\n",
    "\n",
    "# Remove first row since null for differenced columns\n",
    "df = df.drop(index=df.index[0], axis='index')\n",
    "\n",
    "print(df.shape)\n",
    "df.info()"
   ]
  },
  {
   "cell_type": "code",
   "execution_count": 8,
   "metadata": {},
   "outputs": [
    {
     "name": "stdout",
     "output_type": "stream",
     "text": [
      "(707, 17)\n",
      "(707, 1)\n"
     ]
    }
   ],
   "source": [
    "# Split into input and target variables\n",
    "\n",
    "X = df.drop('target', axis='columns')\n",
    "y = df['target'].values\n",
    "y = y.reshape(-1, 1)  # Put target variable into column vector shape\n",
    "\n",
    "print(X.shape)\n",
    "print(y.shape)"
   ]
  },
  {
   "cell_type": "code",
   "execution_count": 9,
   "metadata": {},
   "outputs": [
    {
     "name": "stdout",
     "output_type": "stream",
     "text": [
      "X mean: 3.8781598690292513e-16\n",
      "X var: 1.0\n",
      "y min: 0.0\n",
      "y max: 1.0\n"
     ]
    }
   ],
   "source": [
    "# Scale data\n",
    "\n",
    "standard_scaler = sklearn.preprocessing.StandardScaler()  # Scales to mean of 0 and var of 1\n",
    "minmax_scaler = sklearn.preprocessing.MinMaxScaler()  # Scale to between 0 and 1\n",
    "\n",
    "X_scaled = standard_scaler.fit_transform(X)  \n",
    "y_scaled = minmax_scaler.fit_transform(y)    \n",
    "\n",
    "print(\"X mean:\", X_scaled.mean())\n",
    "print(\"X var:\", X_scaled.var())\n",
    "print(\"y min:\", y_scaled.min())\n",
    "print(\"y max:\", y_scaled.max())"
   ]
  },
  {
   "cell_type": "code",
   "execution_count": 10,
   "metadata": {},
   "outputs": [
    {
     "name": "stdout",
     "output_type": "stream",
     "text": [
      "(673, 24, 17) (673, 12)\n"
     ]
    }
   ],
   "source": [
    "# NOTE: These values are for monthly data\n",
    "#       Change these if interpolating!\n",
    "IN_SEQ_LENGTH = 24\n",
    "OUT_SEQ_LENGTH = 12\n",
    "\n",
    "def split_sequences(input_sequences, output_sequence, n_steps_in, n_steps_out):\n",
    "    X = []\n",
    "    y = []\n",
    "    for i in range(len(input_sequences)):\n",
    "        end_ix = i + n_steps_in\n",
    "        out_end_ix = end_ix + n_steps_out - 1\n",
    "        if out_end_ix > len(input_sequences):\n",
    "            break\n",
    "        seq_x, seq_y = input_sequences[i:end_ix], output_sequence[end_ix-1:out_end_ix, -1]\n",
    "        X.append(seq_x), y.append(seq_y)\n",
    "        \n",
    "    return np.array(X), np.array(y)\n",
    "\n",
    "X_seq, y_seq = split_sequences(X_scaled, y_scaled, IN_SEQ_LENGTH, OUT_SEQ_LENGTH)\n",
    "\n",
    "# Make \n",
    "print(X_seq.shape, y_seq.shape)\n",
    "\n",
    "assert y_seq[0].all() == y_scaled[IN_SEQ_LENGTH-1:IN_SEQ_LENGTH-1+OUT_SEQ_LENGTH].squeeze(1).all()"
   ]
  },
  {
   "cell_type": "code",
   "execution_count": 11,
   "metadata": {},
   "outputs": [
    {
     "name": "stdout",
     "output_type": "stream",
     "text": [
      "torch.Size([639, 24, 17])\n",
      "torch.Size([34, 24, 17])\n"
     ]
    }
   ],
   "source": [
    "TEST_SIZE = 0.05\n",
    "\n",
    "# Split data into train and test sets\n",
    "X_train, X_val, y_train, y_val = sklearn.model_selection.train_test_split(X_seq, y_seq, test_size=TEST_SIZE)\n",
    "\n",
    "# Convert datasets to nodes in computational graph\n",
    "X_train_tensors = torch.Tensor(X_train)\n",
    "y_train_tensors = torch.Tensor(y_train)\n",
    "X_val_tensors = torch.Tensor(X_val)\n",
    "y_val_tensors = torch.Tensor(y_val)\n",
    "\n",
    "# Convert to sequential data for pytorch\n",
    "X_train_tensors = torch.reshape(X_train_tensors, \n",
    "                                (X_train_tensors.shape[0], IN_SEQ_LENGTH, X_train_tensors.shape[2])\n",
    "                               )\n",
    "X_val_tensors = torch.reshape(X_val_tensors, (X_val_tensors.shape[0], IN_SEQ_LENGTH, X_val_tensors.shape[2]))\n",
    "\n",
    "\n",
    "print(X_train_tensors.shape)\n",
    "print(X_val_tensors.shape)"
   ]
  },
  {
   "cell_type": "code",
   "execution_count": 12,
   "metadata": {},
   "outputs": [
    {
     "name": "stdout",
     "output_type": "stream",
     "text": [
      "[[ 6.40000000e+00  2.75486000e+03  5.45400000e+01  1.33720000e+02\n",
      "   2.52780000e+02  2.68000000e+00  3.16430000e+03  6.26500000e+01\n",
      "   1.93047628e+06  1.53600000e+02  9.37070200e+04  2.95400000e+01\n",
      "   3.22100000e+01  2.47000000e+00  1.01000000e+00  4.91300000e+01\n",
      "   1.00663102e-02]\n",
      " [ 5.80000000e+00  2.80398000e+03  5.49400000e+01  1.34390000e+02\n",
      "   2.54200000e+02  2.57000000e+00  3.20266000e+03  6.27500000e+01\n",
      "   1.95706504e+06  1.53500000e+02  9.37988000e+04  2.95800000e+01\n",
      "   3.22600000e+01  2.61000000e+00  1.01000000e+00  4.94300000e+01\n",
      "   9.96598860e-03]\n",
      " [ 5.70000000e+00  2.90380000e+03  5.53200000e+01  1.34680000e+02\n",
      "   2.55550000e+02  2.53000000e+00  3.29920000e+03  6.28500000e+01\n",
      "   2.01926093e+06  1.53020000e+02  9.36568600e+04  3.01300000e+01\n",
      "   3.28800000e+01  2.61000000e+00  1.01000000e+00  4.94500000e+01\n",
      "   9.86764693e-03]\n",
      " [ 6.50000000e+00  2.85471000e+03  5.57000000e+01  1.34980000e+02\n",
      "   2.56090000e+02  2.40000000e+00  3.23654000e+03  6.31500000e+01\n",
      "   1.98412836e+06  1.53030000e+02  9.38137400e+04  2.92400000e+01\n",
      "   3.19300000e+01  2.84000000e+00  1.03000000e+00  5.00100000e+01\n",
      "  -4.24673071e-03]]\n"
     ]
    }
   ],
   "source": [
    "# Sanity Check data\n",
    "X_check, y_check = split_sequences(X, y.reshape(-1, 1), IN_SEQ_LENGTH, OUT_SEQ_LENGTH)\n",
    "print(X_check[-1][0:4])\n",
    "\n",
    "start_ix = IN_SEQ_LENGTH + OUT_SEQ_LENGTH\n",
    "\n",
    "#print(X.iloc[-start_ix + 1: -start_ix + 5])"
   ]
  },
  {
   "cell_type": "markdown",
   "metadata": {},
   "source": [
    "### Model"
   ]
  },
  {
   "cell_type": "code",
   "execution_count": 13,
   "metadata": {},
   "outputs": [],
   "source": [
    "# Define model\n",
    "\n",
    "class LSTM(torch.nn.Module):\n",
    "    def __init__(self, n_classes, n_inputs, n_hidden, n_layers):\n",
    "        super().__init__()\n",
    "        self.n_classes = n_classes  # Output size\n",
    "        self.n_inputs = n_inputs  # Input size\n",
    "        self.n_hidden = n_hidden\n",
    "        self.n_layers = n_layers  # Number of reccurrent layers\n",
    "        \n",
    "        self.lstm = torch.nn.LSTM(input_size=n_inputs, \n",
    "                                  hidden_size=n_hidden,\n",
    "                                  num_layers=n_layers,\n",
    "                                  batch_first=True  # Input/Output layers are of the form (batch, seq, feature)\n",
    "                                  #dropout=0.2  # Dropout helps to avoid over-fitting/improves robustness\n",
    "                                 )\n",
    "        self.fc1 = torch.nn.Linear(n_hidden, 128)  # Fully connected layer 1\n",
    "        self.fc2 = torch.nn.Linear(128, n_classes)  # Fully connected layer 2\n",
    "        self.relu = torch.nn.ReLU()  # Activation layer\n",
    "        \n",
    "    def forward(self, X):\n",
    "        # Initialize hidden state\n",
    "        h_0 = torch.Tensor(torch.zeros(self.n_layers, X.size(0), self.n_hidden))\n",
    "        # Initialize cell state\n",
    "        c_0 = torch.Tensor(torch.zeros(self.n_layers, X.size(0), self.n_hidden))\n",
    "        \n",
    "        # Forward propogate inputs\n",
    "        output, (h_n, c_n) = self.lstm(X, (h_0, c_0))\n",
    "        h_n = h_n.view(-1, self.n_hidden)\n",
    "        out = self.relu(h_n)\n",
    "        out = self.fc1(out)\n",
    "        out = self.relu(out)\n",
    "        out = self.fc2(out)\n",
    "        \n",
    "        return out"
   ]
  },
  {
   "cell_type": "code",
   "execution_count": 14,
   "metadata": {},
   "outputs": [],
   "source": [
    "# Define training loop\n",
    "\n",
    "def training_loop(n_epochs, lstm, optimizer, loss_fn, X_train, y_train, X_test, y_test):\n",
    "    train_loss_list = []\n",
    "    test_loss_list = []\n",
    "    for epoch_i in range(n_epochs):\n",
    "        lstm.train()\n",
    "        outputs = lstm.forward(X_train)  # Forward pass\n",
    "        optimizer.zero_grad()  # Calculate gradient, manually set to 0\n",
    "        loss = loss_fn(outputs, y_train)\n",
    "        loss.backward()  # Calculate loss\n",
    "        optimizer.step()  # Backpropogate loss\n",
    "\n",
    "        # Test set loss\n",
    "        lstm.eval()\n",
    "        test_preds = lstm(X_test)\n",
    "        test_loss = loss_fn(test_preds, y_test)\n",
    "        if epoch_i % 100 == 0:\n",
    "            print(\"Epoch {}: Train loss: {:.8f} Test loss: {:.15f}\".format(epoch_i, \n",
    "                                                                          loss.item(),\n",
    "                                                                          test_loss.item()\n",
    "                                                                         )\n",
    "                 )\n",
    "        train_loss_list.append(loss.item())\n",
    "        test_loss_list.append(test_loss.item())\n",
    "    \n",
    "    return train_loss_list, test_loss_list"
   ]
  },
  {
   "cell_type": "code",
   "execution_count": 15,
   "metadata": {},
   "outputs": [
    {
     "name": "stdout",
     "output_type": "stream",
     "text": [
      "Epoch 0: Train loss: 0.28549814 Test loss: 0.266233980655670\n",
      "Epoch 100: Train loss: 0.02279336 Test loss: 0.023115038871765\n",
      "Epoch 200: Train loss: 0.02039521 Test loss: 0.020596712827682\n",
      "Epoch 300: Train loss: 0.01824456 Test loss: 0.019512951374054\n",
      "Epoch 400: Train loss: 0.01669692 Test loss: 0.018079807981849\n",
      "Epoch 500: Train loss: 0.01510919 Test loss: 0.017291355878115\n",
      "Epoch 600: Train loss: 0.01372459 Test loss: 0.017629262059927\n",
      "Epoch 700: Train loss: 0.01252744 Test loss: 0.017727253958583\n",
      "Epoch 800: Train loss: 0.01145968 Test loss: 0.017286563292146\n",
      "Epoch 900: Train loss: 0.01047326 Test loss: 0.017768453806639\n"
     ]
    }
   ],
   "source": [
    "# Train single model\n",
    "\n",
    "\n",
    "# Define model parameters\n",
    "N_EPOCHS = 1000\n",
    "LEARNING_RATE = 0.001\n",
    "\n",
    "INPUT_SIZE = X.shape[1]  # Number of features\n",
    "HIDDEN_SIZE = 10  # Number of features in hidden state\n",
    "N_LAYERS = 1 # Number of stacked lstm layers\n",
    "\n",
    "N_CLASSES = OUT_SEQ_LENGTH  # Equal to how many timesteps in future we want to predict\n",
    "\n",
    "lstm1 = LSTM(N_CLASSES,\n",
    "            INPUT_SIZE,\n",
    "            HIDDEN_SIZE,\n",
    "            N_LAYERS\n",
    "           )\n",
    "\n",
    "def train_model(model):\n",
    "    # Define loss function\n",
    "    loss_fn = torch.nn.MSELoss()\n",
    "    optimizer = torch.optim.Adam(model.parameters(), lr=LEARNING_RATE)\n",
    "\n",
    "    # Run training loop\n",
    "    train_loss, test_loss = training_loop(n_epochs=N_EPOCHS,\n",
    "                  lstm=model,\n",
    "                  optimizer=optimizer,\n",
    "                  loss_fn=loss_fn,\n",
    "                  X_train=X_train_tensors,\n",
    "                  y_train=y_train_tensors,\n",
    "                  X_test=X_val_tensors,\n",
    "                  y_test=y_val_tensors\n",
    "                 )\n",
    "    \n",
    "    return train_loss, test_loss\n",
    "\n",
    "train_loss, test_loss = train_model(lstm1)"
   ]
  },
  {
   "cell_type": "markdown",
   "metadata": {},
   "source": [
    "### Plot Results"
   ]
  },
  {
   "cell_type": "code",
   "execution_count": 16,
   "metadata": {},
   "outputs": [
    {
     "data": {
      "image/png": "[encoded data removed]",
      "text/plain": [
       "<Figure size 432x288 with 1 Axes>"
      ]
     },
     "metadata": {
      "needs_background": "light"
     },
     "output_type": "display_data"
    }
   ],
   "source": [
    "plt.plot(train_loss, label=\"Train Loss\")\n",
    "plt.plot(test_loss, label=\"Test Loss\")\n",
    "plt.title(\"Model Loss\")\n",
    "plt.xlabel('Epoch')\n",
    "plt.legend()\n",
    "\n",
    "plt.savefig('figures/training_loss.png')\n",
    "plt.show()"
   ]
  },
  {
   "cell_type": "code",
   "execution_count": 17,
   "metadata": {},
   "outputs": [
    {
     "data": {
      "image/png": "[encoded data removed]",
      "text/plain": [
       "<Figure size 1080x576 with 1 Axes>"
      ]
     },
     "metadata": {
      "needs_background": "light"
     },
     "output_type": "display_data"
    }
   ],
   "source": [
    "# Plot predictions vs actual\n",
    "\n",
    "def inverse_pct_change(series, y_0):\n",
    "    np_series = np.array(series)  # Use np array for built in cumsum\n",
    "    np_series[0] = np.log(y_0)\n",
    "    cumulative_sum = np_series.cumsum()\n",
    "    \n",
    "    return np.exp(cumulative_sum)\n",
    "\n",
    "\n",
    "# Get data into the right format\n",
    "X_tensors = torch.Tensor(X_seq)\n",
    "y_tensors = torch.Tensor(y_seq)\n",
    "\n",
    "X_tensors = torch.reshape(X_tensors, (X_tensors.shape[0], IN_SEQ_LENGTH, X_tensors.shape[2]))\n",
    "\n",
    "# Get predictions and actual\n",
    "predictions_scaled = lstm1(X_tensors).data.numpy()  # Convert to numpy for plotting\n",
    "actual_scaled = y_tensors.data.numpy()\n",
    "\n",
    "# Reverse scaling transformations\n",
    "predictions_seq = minmax_scaler.inverse_transform(predictions_scaled)  # y values used minmax scaler earlier\n",
    "actual_seq = minmax_scaler.inverse_transform(actual_scaled)\n",
    "\n",
    "# Reverse sequence transformations\n",
    "predictions = [predictions_seq[i][0] for i in range(len(predictions_seq))]\n",
    "actual = [actual_seq[i][0] for i in range(len(actual_seq))]\n",
    "\n",
    "# Reverse log difference transformations\n",
    "first_idx = IN_SEQ_LENGTH\n",
    "\n",
    "first_target = df_raw['MSPUS'].iat[first_idx]  # First MSPUS value before log differencing\n",
    "predictions_final = inverse_pct_change(predictions, first_target)\n",
    "actual_final = inverse_pct_change(actual, first_target)\n",
    "\n",
    "# Plot\n",
    "plt.figure(figsize=(15, 8))\n",
    "\n",
    "\n",
    "train_test_cutoff = round((1-TEST_SIZE) * X_tensors.shape[0])  # Index where test data starts\n",
    "plt.axvline(x=train_test_cutoff, c='red', linestyle='--')\n",
    "\n",
    "plt.plot(actual_final, label='Actual')\n",
    "plt.plot(predictions_final, label='Predicted')\n",
    "plt.legend()\n",
    "plt.savefig('figures/actual_vs_predicted.png')\n",
    "\n",
    "plt.show()"
   ]
  },
  {
   "cell_type": "code",
   "execution_count": 18,
   "metadata": {},
   "outputs": [
    {
     "name": "stdout",
     "output_type": "stream",
     "text": [
      "328997.03\n",
      "673\n",
      "707\n"
     ]
    }
   ],
   "source": [
    "print(actual_final[-(OUT_SEQ_LENGTH+1)])\n",
    "print(len(actual_final))\n",
    "print(len(y))"
   ]
  },
  {
   "cell_type": "code",
   "execution_count": 30,
   "metadata": {},
   "outputs": [],
   "source": [
    "# Predict future based only on last in sequence length\n",
    "\n",
    "# Get last MSPUS value before start of predictions\n",
    "FIRST_TARGET = actual_final[-(OUT_SEQ_LENGTH+1)]  \n",
    "\n",
    "def get_predictions(model, X_test_tensors, first_target):\n",
    "    # Predictions\n",
    "    test_predictions = model(X_test_tensors[-1].unsqueeze(0)).detach().numpy()  # Get the last sample\n",
    "    test_predictions = minmax_scaler.inverse_transform(test_predictions)  # Reverse scaling transform\n",
    "    test_predictions = test_predictions[0].tolist()\n",
    "    test_predictions = inverse_pct_change(test_predictions, first_target)\n",
    "    \n",
    "    return test_predictions\n",
    "\n"
   ]
  },
  {
   "cell_type": "code",
   "execution_count": 31,
   "metadata": {},
   "outputs": [
    {
     "data": {
      "image/png": "[encoded data removed]",
      "text/plain": [
       "<Figure size 432x288 with 1 Axes>"
      ]
     },
     "metadata": {
      "needs_background": "light"
     },
     "output_type": "display_data"
    }
   ],
   "source": [
    "\n",
    "\n",
    "test_predictions = get_predictions(lstm1, X_val_tensors, FIRST_TARGET)\n",
    "\n",
    "# Actual\n",
    "test_actual = y_val_tensors[-1].detach().numpy()  # Last actual y\n",
    "test_actual = minmax_scaler.inverse_transform(test_actual.reshape(1, -1))\n",
    "test_actual = test_actual[0].tolist()\n",
    "test_actual = inverse_pct_change(test_actual, FIRST_TARGET)\n",
    "\n",
    "plt.plot(test_actual, label=\"Actual\")\n",
    "plt.plot(test_predictions, label=\"Predicted\")\n",
    "plt.legend()\n",
    "plt.savefig('figures/actual_vs_predicted_end.png')\n",
    "\n",
    "plt.show()"
   ]
  },
  {
   "cell_type": "code",
   "execution_count": 36,
   "metadata": {},
   "outputs": [
    {
     "data": {
      "image/png": "[encoded data removed]",
      "text/plain": [
       "<Figure size 432x288 with 1 Axes>"
      ]
     },
     "metadata": {
      "needs_background": "light"
     },
     "output_type": "display_data"
    }
   ],
   "source": [
    "# Full scale actual vs predicted plot\n",
    "\n",
    "def plot_actual_vs_pred(test_predictions, test_actual, actual_final, plot_savename):\n",
    "    N = len(actual_final)\n",
    "\n",
    "    actual_slice = [i for i in range(600, N - OUT_SEQ_LENGTH)]\n",
    "    pred_slice = [i for i in range(N - OUT_SEQ_LENGTH, N)]\n",
    "    plt.plot(actual_slice, actual_final[600:N - OUT_SEQ_LENGTH])\n",
    "    plt.plot(pred_slice, test_predictions, label='Predictions')\n",
    "    plt.plot(pred_slice, test_actual, label='Actual')\n",
    "    plt.axvline(x=len(actual_final)-OUT_SEQ_LENGTH, c='red', linestyle='--')\n",
    "\n",
    "\n",
    "    plt.legend()\n",
    "    plt.xlabel('Month #')\n",
    "    plt.ylabel('Sale Price (USD)')\n",
    "    plt.savefig(plot_savename, bbox_inches='tight')\n",
    "    plt.show()\n",
    "    \n",
    "plot_name = 'figures/scale_actual_vs_pred.png'\n",
    "plot_actual_vs_pred(test_predictions, test_actual, actual_final, plot_name)"
   ]
  },
  {
   "cell_type": "markdown",
   "metadata": {},
   "source": [
    "### Run Multiple Models"
   ]
  },
  {
   "cell_type": "code",
   "execution_count": 33,
   "metadata": {},
   "outputs": [
    {
     "name": "stdout",
     "output_type": "stream",
     "text": [
      "------------TRAINING MODEL 1--------------\n",
      "Epoch 0: Train loss: 0.28468713 Test loss: 0.267623275518417\n",
      "Epoch 100: Train loss: 0.02319304 Test loss: 0.024214563891292\n",
      "Epoch 200: Train loss: 0.02056530 Test loss: 0.021476976573467\n",
      "Epoch 300: Train loss: 0.01921513 Test loss: 0.020859571173787\n",
      "Epoch 400: Train loss: 0.01805618 Test loss: 0.020589176565409\n",
      "Epoch 500: Train loss: 0.01699006 Test loss: 0.020387519150972\n",
      "Epoch 600: Train loss: 0.01589321 Test loss: 0.019797081127763\n",
      "Epoch 700: Train loss: 0.01487112 Test loss: 0.019314117729664\n",
      "Epoch 800: Train loss: 0.01398172 Test loss: 0.018853854387999\n",
      "Epoch 900: Train loss: 0.01314178 Test loss: 0.018481109291315\n",
      "------------TRAINING MODEL 2--------------\n",
      "Epoch 0: Train loss: 0.32212231 Test loss: 0.310914307832718\n",
      "Epoch 100: Train loss: 0.02275124 Test loss: 0.022610921412706\n",
      "Epoch 200: Train loss: 0.02045526 Test loss: 0.020523110404611\n",
      "Epoch 300: Train loss: 0.01888385 Test loss: 0.019816782325506\n",
      "Epoch 400: Train loss: 0.01778485 Test loss: 0.019358731806278\n",
      "Epoch 500: Train loss: 0.01682273 Test loss: 0.018799884244800\n",
      "Epoch 600: Train loss: 0.01579046 Test loss: 0.018138794228435\n",
      "Epoch 700: Train loss: 0.01478724 Test loss: 0.017460973933339\n",
      "Epoch 800: Train loss: 0.01381771 Test loss: 0.017493739724159\n",
      "Epoch 900: Train loss: 0.01289344 Test loss: 0.017767280340195\n"
     ]
    }
   ],
   "source": [
    "all_predictions = []\n",
    "for i in range(2):\n",
    "    torch.manual_seed(i)\n",
    "    \n",
    "    model = LSTM(N_CLASSES,\n",
    "            INPUT_SIZE,\n",
    "            HIDDEN_SIZE,\n",
    "            N_LAYERS\n",
    "           )\n",
    "    print('------------TRAINING MODEL {}--------------'.format(i+1))\n",
    "    train_loss, test_loss = train_model(model)\n",
    "    \n",
    "    all_predictions.append(get_predictions(model, X_val_tensors, FIRST_TARGET))\n"
   ]
  },
  {
   "cell_type": "code",
   "execution_count": 35,
   "metadata": {},
   "outputs": [
    {
     "name": "stdout",
     "output_type": "stream",
     "text": [
      "[[328997.0345277  332969.53906768 335742.86323539 336499.56909798\n",
      "  337360.62314909 338323.15930962 339323.17868133 340443.92407797\n",
      "  341894.55595051 343743.57914497 345779.37112677 348101.4447778 ]\n",
      " [328997.0345277  332946.35447503 336119.32256847 337205.55538365\n",
      "  337682.32369528 337919.8439752  339198.80753876 341366.70578676\n",
      "  344052.58711625 346493.15042004 348178.23443287 349660.73975682]]\n",
      "[328997.0345277  332957.94677135 335931.09290193 336852.56224081\n",
      " 337521.47342219 338121.50164241 339260.99311005 340905.31493236\n",
      " 342973.57153338 345118.3647825  346978.80277982 348881.09226731]\n",
      "[   0.           11.59229632  188.22966654  352.99314284  160.85027309\n",
      "  201.65766721   62.18557129  461.39085439 1079.01558287 1374.78563753\n",
      " 1199.43165305  779.64748951]\n"
     ]
    }
   ],
   "source": [
    "np_pred = np.array(all_predictions)\n",
    "\n",
    "print(np_pred)\n",
    "print(np_pred.mean(axis=0))\n",
    "print(np_pred.std(axis=0))"
   ]
  },
  {
   "cell_type": "code",
   "execution_count": 40,
   "metadata": {},
   "outputs": [
    {
     "data": {
      "image/png": "[encoded data removed]",
      "text/plain": [
       "<Figure size 432x288 with 1 Axes>"
      ]
     },
     "metadata": {
      "needs_background": "light"
     },
     "output_type": "display_data"
    }
   ],
   "source": [
    "# Plot model average predictions with std devs\n",
    "\n",
    "def plot_actual_vs_pred_multimodel(test_predictions, test_actual, actual_final, plot_savename):\n",
    "    N = len(actual_final)\n",
    "    \n",
    "    test_predictions = np.array(test_predictions)\n",
    "    avg_pred = test_predictions.mean(axis=0)\n",
    "    std_pred = test_predictions.std(axis=0)\n",
    "\n",
    "    actual_slice = [i for i in range(600, N - OUT_SEQ_LENGTH)]\n",
    "    pred_slice = [i for i in range(N - OUT_SEQ_LENGTH, N)]\n",
    "    plt.plot(actual_slice, actual_final[600:N - OUT_SEQ_LENGTH])\n",
    "    plt.plot(pred_slice, avg_pred, label='Predictions')\n",
    "    plt.fill_between(pred_slice,  # Fill confidence inter\n",
    "                     avg_pred + std_pred, \n",
    "                     avg_pred - std_pred, \n",
    "                     alpha=0.5, \n",
    "                     color='C2', \n",
    "                     label='Confidence')\n",
    "    plt.plot(pred_slice, test_actual, label='Actual')\n",
    "    plt.axvline(x=len(actual_final)-OUT_SEQ_LENGTH, c='red', linestyle='--')\n",
    "\n",
    "\n",
    "    plt.legend()\n",
    "    plt.xlabel('Month #')\n",
    "    plt.ylabel('Sale Price (USD)')\n",
    "    plt.savefig(plot_savename, bbox_inches='tight')\n",
    "    plt.show()\n",
    "    \n",
    "\n",
    "plot_name = 'figures/actual_vs_pred_multimodel.png'\n",
    "plot_actual_vs_pred_multimodel(all_predictions, test_actual, actual_final, plot_name)"
   ]
  },
  {
   "cell_type": "markdown",
   "metadata": {},
   "source": [
    "### Sanity Check Functions"
   ]
  },
  {
   "cell_type": "code",
   "execution_count": 23,
   "metadata": {},
   "outputs": [
    {
     "data": {
      "image/png": "[encoded data removed]",
      "text/plain": [
       "<Figure size 432x288 with 1 Axes>"
      ]
     },
     "metadata": {
      "needs_background": "light"
     },
     "output_type": "display_data"
    },
    {
     "name": "stdout",
     "output_type": "stream",
     "text": [
      "DatetimeIndex(['1963-01-01', '1963-02-01', '1963-03-01', '1963-04-01',\n",
      "               '1963-05-01', '1963-06-01', '1963-07-01', '1963-08-01',\n",
      "               '1963-09-01', '1963-10-01',\n",
      "               ...\n",
      "               '2021-03-01', '2021-04-01', '2021-05-01', '2021-06-01',\n",
      "               '2021-07-01', '2021-08-01', '2021-09-01', '2021-10-01',\n",
      "               '2021-11-01', '2021-12-01'],\n",
      "              dtype='datetime64[ns]', name='DATE', length=708, freq=None)\n",
      "DatetimeIndex(['1965-01-01', '1965-02-01', '1965-03-01', '1965-04-01',\n",
      "               '1965-05-01', '1965-06-01', '1965-07-01', '1965-08-01',\n",
      "               '1965-09-01', '1965-10-01',\n",
      "               ...\n",
      "               '2020-04-01', '2020-05-01', '2020-06-01', '2020-07-01',\n",
      "               '2020-08-01', '2020-09-01', '2020-10-01', '2020-11-01',\n",
      "               '2020-12-01', '2021-01-01'],\n",
      "              dtype='datetime64[ns]', name='DATE', length=673, freq=None)\n"
     ]
    }
   ],
   "source": [
    "# Reverse transform sanity check\n",
    "actual_df = pd.DataFrame(actual_final, index=df_raw['MSPUS'].index[first_idx:-11])\n",
    "\n",
    "plt.plot(df_raw['MSPUS'], label='Raw')\n",
    "plt.plot(actual_df, label='Transformed')\n",
    "\n",
    "plt.show()\n",
    "print(df_raw['MSPUS'].index)\n",
    "print(actual_df.index)"
   ]
  },
  {
   "cell_type": "code",
   "execution_count": 24,
   "metadata": {},
   "outputs": [
    {
     "name": "stdout",
     "output_type": "stream",
     "text": [
      "[299340 143567 273685 217952 276963 252315 195939 197639 141993 222579]\n",
      "[299340. 143567. 273685. 217952. 276963. 252315. 195939. 197639. 141993.\n",
      " 222579.]\n",
      "[299340. 143567. 273685. 217952. 276963. 252315. 195939. 197639. 141993.\n",
      " 222579.]\n"
     ]
    }
   ],
   "source": [
    "# Test inverse_pct_change\n",
    "\n",
    "np.random.seed(0)\n",
    "\n",
    "s = pd.Series(np.random.randint(100000, 300000, size=10))\n",
    "\n",
    "print(s.values)\n",
    "\n",
    "t = np.log(s).diff()\n",
    "t.iat[0] = np.log(s.iat[0])\n",
    "res = np.exp(t.cumsum())\n",
    "\n",
    "print(res.values)\n",
    "\n",
    "test = inverse_pct_change(t, s.iat[0])\n",
    "print(test)"
   ]
  },
  {
   "cell_type": "code",
   "execution_count": null,
   "metadata": {},
   "outputs": [],
   "source": []
  }
 ],
 "metadata": {
  "kernelspec": {
   "display_name": "mas-thesis",
   "language": "python",
   "name": "mas-thesis"
  },
  "language_info": {
   "codemirror_mode": {
    "name": "ipython",
    "version": 3
   },
   "file_extension": ".py",
   "mimetype": "text/x-python",
   "name": "python",
   "nbconvert_exporter": "python",
   "pygments_lexer": "ipython3",
   "version": "3.10.4"
  }
 },
 "nbformat": 4,
 "nbformat_minor": 4
}
