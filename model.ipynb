{
 "cells": [
  {
   "cell_type": "markdown",
   "metadata": {},
   "source": [
    "# Model"
   ]
  },
  {
   "cell_type": "code",
   "execution_count": 13,
   "metadata": {
    "scrolled": true
   },
   "outputs": [],
   "source": [
    "import pandas as pd\n",
    "import torch\n",
    "import sklearn.model_selection\n",
    "import sklearn.preprocessing\n",
    "\n",
    "from matplotlib import pyplot as plt\n",
    "\n",
    "%matplotlib inline"
   ]
  },
  {
   "cell_type": "markdown",
   "metadata": {},
   "source": [
    "### Load Data"
   ]
  },
  {
   "cell_type": "code",
   "execution_count": 2,
   "metadata": {},
   "outputs": [
    {
     "name": "stdout",
     "output_type": "stream",
     "text": [
      "<class 'pandas.core.frame.DataFrame'>\n",
      "DatetimeIndex: 592 entries, 1963-01-01 to 2012-04-01\n",
      "Data columns (total 20 columns):\n",
      " #   Column                                                                     Non-Null Count  Dtype  \n",
      "---  ------                                                                     --------------  -----  \n",
      " 0   MSACSR                                                                     592 non-null    float64\n",
      " 1   MSPUS                                                                      592 non-null    float64\n",
      " 2   S&P Comp.                                                                  592 non-null    float64\n",
      " 3   Dividend                                                                   592 non-null    float64\n",
      " 4   Earnings                                                                   592 non-null    float64\n",
      " 5   Consumer Price Index CPI                                                   592 non-null    float64\n",
      " 6   Long Interest Rate GS10                                                    592 non-null    float64\n",
      " 7   Real Price                                                                 592 non-null    float64\n",
      " 8   Real Dividend                                                              592 non-null    float64\n",
      " 9   Real Total Return Price                                                    592 non-null    float64\n",
      " 10  Real Earnings                                                              592 non-null    float64\n",
      " 11  Real TR Scaled Earnings                                                    592 non-null    float64\n",
      " 12  Cyclically Adjusted Price Earnings Ratio P/E10 or CAPE                     592 non-null    float64\n",
      " 13  Cyclically Adjusted Total Return Price Earnings Ratio TR P/E10 or TR CAPE  592 non-null    float64\n",
      " 14  Excess CAPE Yield                                                          592 non-null    float64\n",
      " 15  Monthly Total Bond Returns                                                 592 non-null    float64\n",
      " 16  Real Total Bond Returns                                                    592 non-null    float64\n",
      " 17  10 Year Annualized Stock Real Return                                       592 non-null    float64\n",
      " 18  10 Year Annualized Bonds  Real Return                                      592 non-null    float64\n",
      " 19  Real 10 Year Excess Annualized  Returns                                    592 non-null    float64\n",
      "dtypes: float64(20)\n",
      "memory usage: 97.1 KB\n"
     ]
    }
   ],
   "source": [
    "df = pd.read_pickle('data/processed.pkl')\n",
    "df = df.set_index('DATE')  # Index for timeseries is datetime\n",
    "\n",
    "df.info()"
   ]
  },
  {
   "cell_type": "markdown",
   "metadata": {},
   "source": [
    "### Data Pre-Processing"
   ]
  },
  {
   "cell_type": "code",
   "execution_count": 3,
   "metadata": {},
   "outputs": [
    {
     "name": "stdout",
     "output_type": "stream",
     "text": [
      "(592, 19) (592, 1)\n"
     ]
    }
   ],
   "source": [
    "X = df.drop('MSPUS', axis='columns')\n",
    "y = df['MSPUS'].values\n",
    "y = y.reshape(-1, 1)  # Put target variable into column vector shape\n",
    "\n",
    "print(X.shape, y.shape)"
   ]
  },
  {
   "cell_type": "code",
   "execution_count": 6,
   "metadata": {},
   "outputs": [
    {
     "name": "stdout",
     "output_type": "stream",
     "text": [
      "torch.Size([532, 1, 19])\n",
      "torch.Size([60, 1, 19])\n"
     ]
    }
   ],
   "source": [
    "# Make train and validation sets\n",
    "X_train, X_val, y_train, y_val = sklearn.model_selection.train_test_split(X, y, test_size=0.1)\n",
    "\n",
    "# Convert datasets to nodes in computational graph\n",
    "X_train_tensors = torch.Tensor(X_train.values)\n",
    "y_train_tensors = torch.Tensor(y_train)\n",
    "X_val_tensors = torch.Tensor(X_val.values)\n",
    "y_val_tensors = torch.Tensor(y_val)\n",
    "\n",
    "# Convert to sequential data for pytorch\n",
    "X_train_tensors = torch.reshape(X_train_tensors, (X_train_tensors.shape[0], 1, X_train_tensors.shape[1]))\n",
    "X_val_tensors = torch.reshape(X_val_tensors, (X_val_tensors.shape[0], 1, X_val_tensors.shape[1]))\n",
    "\n",
    "print(X_train_tensors.shape)\n",
    "print(X_val_tensors.shape)\n",
    "\n"
   ]
  },
  {
   "cell_type": "markdown",
   "metadata": {},
   "source": [
    "### Define the Model"
   ]
  },
  {
   "cell_type": "code",
   "execution_count": 7,
   "metadata": {},
   "outputs": [],
   "source": [
    "class LSTM(torch.nn.Module):\n",
    "    def __init__(self, num_classes, input_size, hidden_size, num_layers, seq_length):\n",
    "        super(LSTM, self).__init__()\n",
    "        self.num_classes = num_classes\n",
    "        self.num_layers = num_layers\n",
    "        self.input_size = input_size\n",
    "        self.hidden_size = hidden_size\n",
    "        self.seq_length = seq_length\n",
    "        \n",
    "        self.lstm = torch.nn.LSTM(input_size = input_size,\n",
    "                            hidden_size = hidden_size,\n",
    "                            num_layers = num_layers,\n",
    "                            batch_first=True\n",
    "                           )\n",
    "        self.fully_connected1 = torch.nn.Linear(hidden_size, 128)\n",
    "        self.fully_connected2 = torch.nn.Linear(128, num_classes)\n",
    "        \n",
    "        self.relu = torch.nn.ReLU()\n",
    "        \n",
    "    def forward(self, x):\n",
    "        # Initialize states\n",
    "        initial_hidden_state   = torch.zeros(self.num_layers, x.size(0), self.hidden_size)\n",
    "        initial_internal_state = torch.zeros(self.num_layers, x.size(0), self.hidden_size)\n",
    "        \n",
    "        # Propogate forward\n",
    "        output, (hidden_state, internal_state) = self.lstm(x, (initial_hidden_state, initial_internal_state))\n",
    "        hidden_state = hidden_state.view(-1, self.hidden_size)  # Reshape for next dense layer\n",
    "        output = self.relu(hidden_state)\n",
    "        output = self.fully_connected1(output)\n",
    "        output = self.relu(output)\n",
    "        output = self.fully_connected2(output)\n",
    "        \n",
    "        return output\n",
    "        "
   ]
  },
  {
   "cell_type": "markdown",
   "metadata": {},
   "source": [
    "### Run Model"
   ]
  },
  {
   "cell_type": "code",
   "execution_count": 8,
   "metadata": {},
   "outputs": [
    {
     "name": "stdout",
     "output_type": "stream",
     "text": [
      "Epoch: 1000, loss: 12627835904.00\n",
      "Epoch: 2000, loss: 6801827840.00\n",
      "Epoch: 3000, loss: 5279175168.00\n",
      "Epoch: 4000, loss: 5229205504.00\n",
      "Epoch: 5000, loss: 5229145088.00\n",
      "Epoch: 6000, loss: 5229144064.00\n",
      "Epoch: 7000, loss: 5229144064.00\n",
      "Epoch: 8000, loss: 5229144064.00\n",
      "Epoch: 9000, loss: 5229144064.00\n",
      "Epoch: 10000, loss: 5229144064.00\n",
      "Epoch: 11000, loss: 5229144064.00\n",
      "Epoch: 12000, loss: 5229144064.00\n",
      "Epoch: 13000, loss: 5229144576.00\n",
      "Epoch: 14000, loss: 5229144576.00\n",
      "Epoch: 15000, loss: 5229144576.00\n",
      "Epoch: 16000, loss: 5229144064.00\n",
      "Epoch: 17000, loss: 5229144064.00\n",
      "Epoch: 18000, loss: 5229144064.00\n",
      "Epoch: 19000, loss: 5229144576.00\n",
      "Epoch: 20000, loss: 5229144064.00\n",
      "Epoch: 21000, loss: 5229144064.00\n",
      "Epoch: 22000, loss: 5229144576.00\n",
      "Epoch: 23000, loss: 5229143552.00\n",
      "Epoch: 24000, loss: 5229144064.00\n",
      "Epoch: 25000, loss: 5229144064.00\n",
      "Epoch: 26000, loss: 5229144064.00\n",
      "Epoch: 27000, loss: 5229144064.00\n",
      "Epoch: 28000, loss: 5229144064.00\n",
      "Epoch: 29000, loss: 5229143552.00\n",
      "Epoch: 30000, loss: 5229144064.00\n",
      "Epoch: 31000, loss: 5229144576.00\n",
      "Epoch: 32000, loss: 5229143040.00\n",
      "Epoch: 33000, loss: 5229144576.00\n",
      "Epoch: 34000, loss: 5229144064.00\n",
      "Epoch: 35000, loss: 5229144064.00\n",
      "Epoch: 36000, loss: 5229144064.00\n",
      "Epoch: 37000, loss: 5229144576.00\n",
      "Epoch: 38000, loss: 5229144576.00\n",
      "Epoch: 39000, loss: 5229144576.00\n",
      "Epoch: 40000, loss: 5229143552.00\n",
      "Epoch: 41000, loss: 5229144576.00\n",
      "Epoch: 42000, loss: 5229144064.00\n",
      "Epoch: 43000, loss: 5229144064.00\n",
      "Epoch: 44000, loss: 5229144064.00\n",
      "Epoch: 45000, loss: 5229144064.00\n",
      "Epoch: 46000, loss: 5229144064.00\n",
      "Epoch: 47000, loss: 5229144064.00\n",
      "Epoch: 48000, loss: 5229144064.00\n",
      "Epoch: 49000, loss: 5229144064.00\n",
      "Epoch: 50000, loss: 5229144576.00\n",
      "Epoch: 51000, loss: 5229144064.00\n",
      "Epoch: 52000, loss: 5229143552.00\n",
      "Epoch: 53000, loss: 5229144576.00\n",
      "Epoch: 54000, loss: 5229144064.00\n",
      "Epoch: 55000, loss: 5229144064.00\n",
      "Epoch: 56000, loss: 5229144064.00\n",
      "Epoch: 57000, loss: 5229144064.00\n",
      "Epoch: 58000, loss: 5229144064.00\n",
      "Epoch: 59000, loss: 5229144064.00\n",
      "Epoch: 60000, loss: 5229144064.00\n",
      "Epoch: 61000, loss: 5229144064.00\n",
      "Epoch: 62000, loss: 5229144064.00\n",
      "Epoch: 63000, loss: 5229143552.00\n",
      "Epoch: 64000, loss: 5229144064.00\n",
      "Epoch: 65000, loss: 5229144064.00\n",
      "Epoch: 66000, loss: 5229144064.00\n",
      "Epoch: 67000, loss: 5229144576.00\n",
      "Epoch: 68000, loss: 5229144064.00\n",
      "Epoch: 69000, loss: 5229144064.00\n",
      "Epoch: 70000, loss: 5229144064.00\n",
      "Epoch: 71000, loss: 5229144064.00\n",
      "Epoch: 72000, loss: 5229144064.00\n",
      "Epoch: 73000, loss: 5229144064.00\n",
      "Epoch: 74000, loss: 5229144064.00\n",
      "Epoch: 75000, loss: 5229144064.00\n",
      "Epoch: 76000, loss: 5229143552.00\n",
      "Epoch: 77000, loss: 5229144064.00\n",
      "Epoch: 78000, loss: 5229144064.00\n",
      "Epoch: 79000, loss: 5229144064.00\n",
      "Epoch: 80000, loss: 5229144064.00\n",
      "Epoch: 81000, loss: 5229144576.00\n",
      "Epoch: 82000, loss: 5229144576.00\n",
      "Epoch: 83000, loss: 5229144064.00\n",
      "Epoch: 84000, loss: 5229144064.00\n",
      "Epoch: 85000, loss: 5229144064.00\n",
      "Epoch: 86000, loss: 5229144064.00\n",
      "Epoch: 87000, loss: 5229144064.00\n",
      "Epoch: 88000, loss: 5229144064.00\n",
      "Epoch: 89000, loss: 5229144064.00\n",
      "Epoch: 90000, loss: 5229144064.00\n",
      "Epoch: 91000, loss: 5229143552.00\n",
      "Epoch: 92000, loss: 5229144064.00\n",
      "Epoch: 93000, loss: 5229144064.00\n",
      "Epoch: 94000, loss: 5229144064.00\n",
      "Epoch: 95000, loss: 5229144576.00\n",
      "Epoch: 96000, loss: 5229144064.00\n",
      "Epoch: 97000, loss: 5229144064.00\n",
      "Epoch: 98000, loss: 5229144064.00\n",
      "Epoch: 99000, loss: 5229144576.00\n",
      "Epoch: 100000, loss: 5229144064.00\n"
     ]
    }
   ],
   "source": [
    "# Model parameters\n",
    "N_CLASSES = 1\n",
    "INPUT_SIZE = X_train_tensors.shape[2]  # Number of features\n",
    "HIDDEN_SIZE = 2 # Number of features in hidden state\n",
    "N_LAYERS = 1  # Number of stacked LSTM layers\n",
    "BIAS = X_train_tensors.shape[1]\n",
    "\n",
    "# Training parameters\n",
    "N_EPOCHS = 100000\n",
    "LEARNING_RATE = 0.01\n",
    "loss_func = torch.nn.MSELoss()\n",
    "\n",
    "\n",
    "lstm = LSTM(N_CLASSES, INPUT_SIZE, HIDDEN_SIZE, N_LAYERS, BIAS)\n",
    "\n",
    "# Training loop\n",
    "optimizer = torch.optim.Adam(lstm.parameters(), lr=LEARNING_RATE)\n",
    "for epoch_i in range(1, N_EPOCHS+1):\n",
    "    # Forward propogation\n",
    "    outputs = lstm.forward(X_train_tensors)\n",
    "    optimizer.zero_grad()  # Manually set gradient to 0 here\n",
    "    \n",
    "    # Backward propogation\n",
    "    np_outputs = outputs.detach().numpy()\n",
    "    #if np.all(np_outputs == np_outputs[0]):\n",
    "        #print('Epoch {}: All outputs the same'.format(epoch_i))\n",
    "    loss = loss_func(outputs, y_train_tensors)\n",
    "    loss.backward()\n",
    "    \n",
    "    optimizer.step()\n",
    "    if epoch_i % 1000 == 0:\n",
    "        print('Epoch: {}, loss: {:.2f}'.format(epoch_i, loss.item()))"
   ]
  },
  {
   "cell_type": "markdown",
   "metadata": {},
   "source": [
    "### Evaluate"
   ]
  },
  {
   "cell_type": "code",
   "execution_count": 16,
   "metadata": {},
   "outputs": [
    {
     "data": {
      "image/png": "[encoded data removed]",
      "text/plain": [
       "<Figure size 720x432 with 1 Axes>"
      ]
     },
     "metadata": {
      "needs_background": "light"
     },
     "output_type": "display_data"
    }
   ],
   "source": [
    "val_predictions = lstm(X_val_tensors).data.numpy()  # Forward pass\n",
    "\n",
    "plt.figure(figsize=(10, 6))\n",
    "\n",
    "#plt.plot(y_val, label='Actual')\n",
    "plt.plot(val_predictions, label='Predicted')\n",
    "plt.legend()\n",
    "plt.show()"
   ]
  },
  {
   "cell_type": "code",
   "execution_count": 17,
   "metadata": {},
   "outputs": [
    {
     "name": "stdout",
     "output_type": "stream",
     "text": [
      "tensor(122947.7812)\n"
     ]
    }
   ],
   "source": [
    "print(y_val_tensors.mean())"
   ]
  }
 ],
 "metadata": {
  "kernelspec": {
   "display_name": "mas-thesis",
   "language": "python",
   "name": "mas-thesis"
  },
  "language_info": {
   "codemirror_mode": {
    "name": "ipython",
    "version": 3
   },
   "file_extension": ".py",
   "mimetype": "text/x-python",
   "name": "python",
   "nbconvert_exporter": "python",
   "pygments_lexer": "ipython3",
   "version": "3.10.4"
  }
 },
 "nbformat": 4,
 "nbformat_minor": 4
}
