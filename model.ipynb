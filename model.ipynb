{
 "cells": [
  {
   "cell_type": "markdown",
   "metadata": {},
   "source": [
    "# Model"
   ]
  },
  {
   "cell_type": "code",
   "execution_count": 1,
   "metadata": {
    "scrolled": true
   },
   "outputs": [
    {
     "name": "stderr",
     "output_type": "stream",
     "text": [
      "/home/harrison/anaconda3/envs/mas-thesis/lib/python3.10/site-packages/tqdm/auto.py:22: TqdmWarning: IProgress not found. Please update jupyter and ipywidgets. See https://ipywidgets.readthedocs.io/en/stable/user_install.html\n",
      "  from .autonotebook import tqdm as notebook_tqdm\n"
     ]
    }
   ],
   "source": [
    "import pandas as pd\n",
    "import torch\n",
    "import sklearn.model_selection\n",
    "import sklearn.preprocessing"
   ]
  },
  {
   "cell_type": "markdown",
   "metadata": {},
   "source": [
    "### Load Data"
   ]
  },
  {
   "cell_type": "code",
   "execution_count": 3,
   "metadata": {},
   "outputs": [
    {
     "name": "stdout",
     "output_type": "stream",
     "text": [
      "<class 'pandas.core.frame.DataFrame'>\n",
      "Int64Index: 592 entries, 0 to 591\n",
      "Data columns (total 21 columns):\n",
      " #   Column                                                                     Non-Null Count  Dtype         \n",
      "---  ------                                                                     --------------  -----         \n",
      " 0   DATE                                                                       592 non-null    datetime64[ns]\n",
      " 1   MSACSR                                                                     592 non-null    float64       \n",
      " 2   MSPUS                                                                      592 non-null    float64       \n",
      " 3   S&P Comp.                                                                  592 non-null    float64       \n",
      " 4   Dividend                                                                   592 non-null    float64       \n",
      " 5   Earnings                                                                   592 non-null    float64       \n",
      " 6   Consumer Price Index CPI                                                   592 non-null    float64       \n",
      " 7   Long Interest Rate GS10                                                    592 non-null    float64       \n",
      " 8   Real Price                                                                 592 non-null    float64       \n",
      " 9   Real Dividend                                                              592 non-null    float64       \n",
      " 10  Real Total Return Price                                                    592 non-null    object        \n",
      " 11  Real Earnings                                                              592 non-null    float64       \n",
      " 12  Real TR Scaled Earnings                                                    592 non-null    object        \n",
      " 13  Cyclically Adjusted Price Earnings Ratio P/E10 or CAPE                     592 non-null    float64       \n",
      " 14  Cyclically Adjusted Total Return Price Earnings Ratio TR P/E10 or TR CAPE  592 non-null    float64       \n",
      " 15  Excess CAPE Yield                                                          592 non-null    object        \n",
      " 16  Monthly Total Bond Returns                                                 592 non-null    float64       \n",
      " 17  Real Total Bond Returns                                                    592 non-null    float64       \n",
      " 18  10 Year Annualized Stock Real Return                                       592 non-null    object        \n",
      " 19  10 Year Annualized Bonds  Real Return                                      592 non-null    object        \n",
      " 20  Real 10 Year Excess Annualized  Returns                                    592 non-null    object        \n",
      "dtypes: datetime64[ns](1), float64(14), object(6)\n",
      "memory usage: 101.8+ KB\n"
     ]
    }
   ],
   "source": [
    "df = pd.read_pickle('data/processed.pkl')\n",
    "\n",
    "df.info()"
   ]
  },
  {
   "cell_type": "markdown",
   "metadata": {},
   "source": [
    "### Data Pre-Processing"
   ]
  },
  {
   "cell_type": "code",
   "execution_count": 4,
   "metadata": {},
   "outputs": [
    {
     "name": "stdout",
     "output_type": "stream",
     "text": [
      "(592, 20) (592,)\n"
     ]
    }
   ],
   "source": [
    "quarterly_supply = df.drop('MSPUS', axis=1)\n",
    "prices = df['MSPUS']\n",
    "\n",
    "print(quarterly_supply.shape, prices.shape)\n",
    "\n",
    "X = quarterly_supply\n",
    "y = prices"
   ]
  },
  {
   "cell_type": "code",
   "execution_count": null,
   "metadata": {},
   "outputs": [],
   "source": [
    "# Make train and validation sets\n",
    "X_train, X_val, y_train, y_val = sklearn.model_selection.train_test_split(X, y, test_size=0.2)\n",
    "\n",
    "\n",
    "# Convert datasets to nodes in computational graph\n",
    "X_train_tensors = torch.Tensor(X_train.values)\n",
    "y_train_tensors = torch.Tensor(y_train.values)\n",
    "X_val_tensors = torch.Tensor(X_val.values)\n",
    "y_val_tensors = torch.Tensor(y_val.values)\n",
    "\n",
    "# Convert to sequential data for pytorch\n",
    "X_train_tensors = torch.reshape(X_train_tensors, (X_train_tensors.shape[0], 1, X_train_tensors.shape[1]))\n",
    "X_val_tensors = torch.reshape(X_val_tensors, (X_val_tensors.shape[0], 1, X_val_tensors.shape[1]))\n",
    "\n",
    "print(X_train_tensors.shape)\n",
    "print(X_val_tensors.shape)"
   ]
  },
  {
   "cell_type": "markdown",
   "metadata": {},
   "source": [
    "### Define the Model"
   ]
  },
  {
   "cell_type": "code",
   "execution_count": null,
   "metadata": {},
   "outputs": [],
   "source": [
    "class LSTM(torch.nn.Module):\n",
    "    def __init__(self, num_classes, input_size, hidden_size, num_layers, seq_length):\n",
    "        super(LSTM, self).__init__()\n",
    "        self.num_classes = num_classes\n",
    "        self.num_layers = num_layers\n",
    "        self.input_size = input_size\n",
    "        self.hidden_size = hidden_size\n",
    "        self.seq_length = seq_length\n",
    "        \n",
    "        self.lstm = torch.nn.LSTM(input_size = input_size,\n",
    "                            hidden_size = hidden_size,\n",
    "                            num_layers = num_layers,\n",
    "                            batch_first=True\n",
    "                           )\n",
    "        self.fully_connected1 = torch.nn.Linear(hidden_size, 128)\n",
    "        self.fully_connected2 = torch.nn.Linear(128, num_classes)\n",
    "        \n",
    "        self.relu = torch.nn.ReLU()\n",
    "        \n",
    "    def forward(self, x):\n",
    "        # Initialize states\n",
    "        initial_hidden_state   = torch.zeros(self.num_layers, x.size(0), self.hidden_size)\n",
    "        initial_internal_state = torch.zeros(self.num_layers, x.size(0), self.hidden_size)\n",
    "        \n",
    "        # Propogate forward\n",
    "        output, (hidden_state, internal_state) = self.lstm(x, (initial_hidden_state, initial_internal_state))\n",
    "        hidden_state = hidden_state.view(-1, self.hidden_size)  # Reshape for next dense layer\n",
    "        output = self.relu(hidden_state)\n",
    "        output = self.fully_connected1(output)\n",
    "        output = self.relu(output)\n",
    "        output = self.fully_connected2(output)\n",
    "        \n",
    "        return output\n",
    "        "
   ]
  },
  {
   "cell_type": "markdown",
   "metadata": {},
   "source": [
    "### Run Model"
   ]
  },
  {
   "cell_type": "code",
   "execution_count": null,
   "metadata": {},
   "outputs": [],
   "source": [
    "# Model parameters\n",
    "N_CLASSES = 1\n",
    "INPUT_SIZE = X_train_tensors.shape[2]  # Number of features\n",
    "HIDDEN_SIZE = 2 # Number of features in hidden state\n",
    "N_LAYERS = 1  # Number of stacked LSTM layers\n",
    "BIAS = X_train_tensors.shape[1]\n",
    "\n",
    "# Training parameters\n",
    "N_EPOCHS = 100000\n",
    "LEARNING_RATE = 0.01\n",
    "loss_func = torch.nn.MSELoss()\n",
    "\n",
    "\n",
    "lstm = LSTM(N_CLASSES, INPUT_SIZE, HIDDEN_SIZE, N_LAYERS, BIAS)\n",
    "\n",
    "# Training loop\n",
    "optimizer = torch.optim.Adam(lstm.parameters(), lr=LEARNING_RATE)\n",
    "for epoch_i in range(1, N_EPOCHS+1):\n",
    "    # Forward propogation\n",
    "    outputs = lstm.forward(X_train_tensors)\n",
    "    optimizer.zero_grad()  # Manually set gradient to 0 here\n",
    "    \n",
    "    # Backward propogation\n",
    "    np_outputs = outputs.detach().numpy()\n",
    "    #if np.all(np_outputs == np_outputs[0]):\n",
    "        #print('Epoch {}: All outputs the same'.format(epoch_i))\n",
    "    loss = loss_func(outputs, y_train_tensors)\n",
    "    loss.backward()\n",
    "    \n",
    "    optimizer.step()\n",
    "    if epoch_i % 1000 == 0:\n",
    "        print('Epoch: {}, loss: {:.2f}'.format(epoch_i, loss.item()))"
   ]
  },
  {
   "cell_type": "markdown",
   "metadata": {},
   "source": [
    "### Evaluate"
   ]
  },
  {
   "cell_type": "code",
   "execution_count": null,
   "metadata": {},
   "outputs": [],
   "source": [
    "print(X_val_tensors)\n",
    "\n",
    "val_predictions = lstm(X_val_tensors).data.numpy()  # Forward pass\n",
    "\n",
    "plt.figure(figsize=(10, 6))\n",
    "\n",
    "#plt.plot(y_val, label='Actual')\n",
    "plt.plot(val_predictions, label='Predicted')\n",
    "plt.legend()\n",
    "plt.show()\n",
    "\n",
    "y_val.head()"
   ]
  },
  {
   "cell_type": "code",
   "execution_count": null,
   "metadata": {},
   "outputs": [],
   "source": [
    "print(X_val_tensors.mean())"
   ]
  }
 ],
 "metadata": {
  "kernelspec": {
   "display_name": "mas-thesis",
   "language": "python",
   "name": "mas-thesis"
  },
  "language_info": {
   "codemirror_mode": {
    "name": "ipython",
    "version": 3
   },
   "file_extension": ".py",
   "mimetype": "text/x-python",
   "name": "python",
   "nbconvert_exporter": "python",
   "pygments_lexer": "ipython3",
   "version": "3.10.4"
  }
 },
 "nbformat": 4,
 "nbformat_minor": 4
}
