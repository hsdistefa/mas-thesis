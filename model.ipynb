{
 "cells": [
  {
   "cell_type": "markdown",
   "metadata": {},
   "source": [
    "# Model"
   ]
  },
  {
   "cell_type": "code",
   "execution_count": null,
   "metadata": {
    "scrolled": true
   },
   "outputs": [],
   "source": [
    "import torch\n",
    "import sklearn.model_selection\n",
    "import sklearn.preprocessing"
   ]
  },
  {
   "cell_type": "markdown",
   "metadata": {},
   "source": [
    "### Define the Model"
   ]
  },
  {
   "cell_type": "code",
   "execution_count": null,
   "metadata": {},
   "outputs": [],
   "source": [
    "class LSTM(torch.nn.Module):\n",
    "    def __init__(self, num_classes, input_size, hidden_size, num_layers, seq_length):\n",
    "        super(LSTM, self).__init__()\n",
    "        self.num_classes = num_classes\n",
    "        self.num_layers = num_layers\n",
    "        self.input_size = input_size\n",
    "        self.hidden_size = hidden_size\n",
    "        self.seq_length = seq_length\n",
    "        \n",
    "        self.lstm = torch.nn.LSTM(input_size = input_size,\n",
    "                            hidden_size = hidden_size,\n",
    "                            num_layers = num_layers,\n",
    "                            batch_first=True\n",
    "                           )\n",
    "        self.fully_connected1 = torch.nn.Linear(hidden_size, 128)\n",
    "        self.fully_connected2 = torch.nn.Linear(128, num_classes)\n",
    "        \n",
    "        self.relu = torch.nn.ReLU()\n",
    "        \n",
    "    def forward(self, x):\n",
    "        # Initialize states\n",
    "        initial_hidden_state   = torch.zeros(self.num_layers, x.size(0), self.hidden_size)\n",
    "        initial_internal_state = torch.zeros(self.num_layers, x.size(0), self.hidden_size)\n",
    "        \n",
    "        # Propogate forward\n",
    "        output, (hidden_state, internal_state) = self.lstm(x, (initial_hidden_state, initial_internal_state))\n",
    "        hidden_state = hidden_state.view(-1, self.hidden_size)  # Reshape for next dense layer\n",
    "        output = self.relu(hidden_state)\n",
    "        output = self.fully_connected1(output)\n",
    "        output = self.relu(output)\n",
    "        output = self.fully_connected2(output)\n",
    "        \n",
    "        return output\n",
    "        "
   ]
  },
  {
   "cell_type": "markdown",
   "metadata": {},
   "source": [
    "### Run Model"
   ]
  },
  {
   "cell_type": "code",
   "execution_count": null,
   "metadata": {},
   "outputs": [],
   "source": [
    "# Model parameters\n",
    "N_CLASSES = 1\n",
    "INPUT_SIZE = X_train_tensors.shape[2]  # Number of features\n",
    "HIDDEN_SIZE = 2 # Number of features in hidden state\n",
    "N_LAYERS = 1  # Number of stacked LSTM layers\n",
    "BIAS = X_train_tensors.shape[1]\n",
    "\n",
    "# Training parameters\n",
    "N_EPOCHS = 100000\n",
    "LEARNING_RATE = 0.01\n",
    "loss_func = torch.nn.MSELoss()\n",
    "\n",
    "\n",
    "lstm = LSTM(N_CLASSES, INPUT_SIZE, HIDDEN_SIZE, N_LAYERS, BIAS)\n",
    "\n",
    "# Training loop\n",
    "optimizer = torch.optim.Adam(lstm.parameters(), lr=LEARNING_RATE)\n",
    "for epoch_i in range(1, N_EPOCHS+1):\n",
    "    # Forward propogation\n",
    "    outputs = lstm.forward(X_train_tensors)\n",
    "    optimizer.zero_grad()  # Manually set gradient to 0 here\n",
    "    \n",
    "    # Backward propogation\n",
    "    np_outputs = outputs.detach().numpy()\n",
    "    #if np.all(np_outputs == np_outputs[0]):\n",
    "        #print('Epoch {}: All outputs the same'.format(epoch_i))\n",
    "    loss = loss_func(outputs, y_train_tensors)\n",
    "    loss.backward()\n",
    "    \n",
    "    optimizer.step()\n",
    "    if epoch_i % 1000 == 0:\n",
    "        print('Epoch: {}, loss: {:.2f}'.format(epoch_i, loss.item()))"
   ]
  },
  {
   "cell_type": "markdown",
   "metadata": {},
   "source": [
    "### Evaluate"
   ]
  },
  {
   "cell_type": "code",
   "execution_count": null,
   "metadata": {},
   "outputs": [],
   "source": [
    "print(X_val_tensors)\n",
    "\n",
    "val_predictions = lstm(X_val_tensors).data.numpy()  # Forward pass\n",
    "\n",
    "plt.figure(figsize=(10, 6))\n",
    "\n",
    "#plt.plot(y_val, label='Actual')\n",
    "plt.plot(val_predictions, label='Predicted')\n",
    "plt.legend()\n",
    "plt.show()\n",
    "\n",
    "y_val.head()"
   ]
  },
  {
   "cell_type": "code",
   "execution_count": null,
   "metadata": {},
   "outputs": [],
   "source": [
    "print(X_val_tensors.mean())"
   ]
  }
 ],
 "metadata": {
  "kernelspec": {
   "display_name": "mas-thesis",
   "language": "python",
   "name": "mas-thesis"
  },
  "language_info": {
   "codemirror_mode": {
    "name": "ipython",
    "version": 3
   },
   "file_extension": ".py",
   "mimetype": "text/x-python",
   "name": "python",
   "nbconvert_exporter": "python",
   "pygments_lexer": "ipython3",
   "version": "3.10.4"
  }
 },
 "nbformat": 4,
 "nbformat_minor": 4
}
